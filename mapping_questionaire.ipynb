{
 "cells": [
  {
   "cell_type": "code",
   "execution_count": 8,
   "metadata": {
    "ExecuteTime": {
     "end_time": "2020-12-24T17:03:00.476518Z",
     "start_time": "2020-12-24T17:01:58.180343Z"
    }
   },
   "outputs": [
    {
     "name": "stdout",
     "output_type": "stream",
     "text": [
      "Bowdoin\n",
      "data/Bowdoin\n"
     ]
    },
    {
     "ename": "KeyboardInterrupt",
     "evalue": "Interrupted by user",
     "output_type": "error",
     "traceback": [
      "\u001b[0;31m----------\u001b[0m",
      "\u001b[0;31mKeyboardInterrupt\u001b[0mTraceback (most recent call last)",
      "\u001b[0;32m<ipython-input-8-b0f19752c194>\u001b[0m in \u001b[0;36m<module>\u001b[0;34m\u001b[0m\n\u001b[1;32m     20\u001b[0m             \u001b[0mwebbrowser\u001b[0m\u001b[0;34m.\u001b[0m\u001b[0mget\u001b[0m\u001b[0;34m(\u001b[0m\u001b[0;34m'chromium'\u001b[0m\u001b[0;34m)\u001b[0m\u001b[0;34m.\u001b[0m\u001b[0mopen\u001b[0m\u001b[0;34m(\u001b[0m\u001b[0;34mf\"file:///home/marcin/Projects/upwork/Jacob/{college_dir.replace(' ','%20')}/{filename}\"\u001b[0m\u001b[0;34m,\u001b[0m \u001b[0mnew\u001b[0m \u001b[0;34m=\u001b[0m \u001b[0;36m2\u001b[0m\u001b[0;34m)\u001b[0m\u001b[0;34m\u001b[0m\u001b[0;34m\u001b[0m\u001b[0m\n\u001b[1;32m     21\u001b[0m \u001b[0;34m\u001b[0m\u001b[0m\n\u001b[0;32m---> 22\u001b[0;31m             \u001b[0mfirst_department_page\u001b[0m\u001b[0;34m,\u001b[0m \u001b[0mfirst_department_name\u001b[0m\u001b[0;34m,\u001b[0m \u001b[0mlast_department_page\u001b[0m \u001b[0;34m=\u001b[0m \u001b[0minput\u001b[0m\u001b[0;34m(\u001b[0m\u001b[0;34m'first_department_page | name | last_page'\u001b[0m\u001b[0;34m)\u001b[0m\u001b[0;34m.\u001b[0m\u001b[0msplit\u001b[0m\u001b[0;34m(\u001b[0m\u001b[0;34m'/'\u001b[0m\u001b[0;34m)\u001b[0m\u001b[0;34m\u001b[0m\u001b[0;34m\u001b[0m\u001b[0m\n\u001b[0m\u001b[1;32m     23\u001b[0m \u001b[0;31m#              = input('last_department_page')\u001b[0m\u001b[0;34m\u001b[0m\u001b[0;34m\u001b[0m\u001b[0;34m\u001b[0m\u001b[0m\n\u001b[1;32m     24\u001b[0m \u001b[0;31m#              = input('fist_department_name')\u001b[0m\u001b[0;34m\u001b[0m\u001b[0;34m\u001b[0m\u001b[0;34m\u001b[0m\u001b[0m\n",
      "\u001b[0;32m/usr/lib/python3.8/site-packages/ipykernel/kernelbase.py\u001b[0m in \u001b[0;36mraw_input\u001b[0;34m(self, prompt)\u001b[0m\n\u001b[1;32m    858\u001b[0m                 \u001b[0;34m\"raw_input was called, but this frontend does not support input requests.\"\u001b[0m\u001b[0;34m\u001b[0m\u001b[0;34m\u001b[0m\u001b[0m\n\u001b[1;32m    859\u001b[0m             )\n\u001b[0;32m--> 860\u001b[0;31m         return self._input_request(str(prompt),\n\u001b[0m\u001b[1;32m    861\u001b[0m             \u001b[0mself\u001b[0m\u001b[0;34m.\u001b[0m\u001b[0m_parent_ident\u001b[0m\u001b[0;34m,\u001b[0m\u001b[0;34m\u001b[0m\u001b[0;34m\u001b[0m\u001b[0m\n\u001b[1;32m    862\u001b[0m             \u001b[0mself\u001b[0m\u001b[0;34m.\u001b[0m\u001b[0m_parent_header\u001b[0m\u001b[0;34m,\u001b[0m\u001b[0;34m\u001b[0m\u001b[0;34m\u001b[0m\u001b[0m\n",
      "\u001b[0;32m/usr/lib/python3.8/site-packages/ipykernel/kernelbase.py\u001b[0m in \u001b[0;36m_input_request\u001b[0;34m(self, prompt, ident, parent, password)\u001b[0m\n\u001b[1;32m    902\u001b[0m             \u001b[0;32mexcept\u001b[0m \u001b[0mKeyboardInterrupt\u001b[0m\u001b[0;34m:\u001b[0m\u001b[0;34m\u001b[0m\u001b[0;34m\u001b[0m\u001b[0m\n\u001b[1;32m    903\u001b[0m                 \u001b[0;31m# re-raise KeyboardInterrupt, to truncate traceback\u001b[0m\u001b[0;34m\u001b[0m\u001b[0;34m\u001b[0m\u001b[0;34m\u001b[0m\u001b[0m\n\u001b[0;32m--> 904\u001b[0;31m                 \u001b[0;32mraise\u001b[0m \u001b[0mKeyboardInterrupt\u001b[0m\u001b[0;34m(\u001b[0m\u001b[0;34m\"Interrupted by user\"\u001b[0m\u001b[0;34m)\u001b[0m \u001b[0;32mfrom\u001b[0m \u001b[0;32mNone\u001b[0m\u001b[0;34m\u001b[0m\u001b[0;34m\u001b[0m\u001b[0m\n\u001b[0m\u001b[1;32m    905\u001b[0m             \u001b[0;32mexcept\u001b[0m \u001b[0mException\u001b[0m \u001b[0;32mas\u001b[0m \u001b[0me\u001b[0m\u001b[0;34m:\u001b[0m\u001b[0;34m\u001b[0m\u001b[0;34m\u001b[0m\u001b[0m\n\u001b[1;32m    906\u001b[0m                 \u001b[0mself\u001b[0m\u001b[0;34m.\u001b[0m\u001b[0mlog\u001b[0m\u001b[0;34m.\u001b[0m\u001b[0mwarning\u001b[0m\u001b[0;34m(\u001b[0m\u001b[0;34m\"Invalid Message:\"\u001b[0m\u001b[0;34m,\u001b[0m \u001b[0mexc_info\u001b[0m\u001b[0;34m=\u001b[0m\u001b[0;32mTrue\u001b[0m\u001b[0;34m)\u001b[0m\u001b[0;34m\u001b[0m\u001b[0;34m\u001b[0m\u001b[0m\n",
      "\u001b[0;31mKeyboardInterrupt\u001b[0m: Interrupted by user"
     ]
    }
   ],
   "source": [
    "import os\n",
    "import webbrowser\n",
    "\n",
    "from IPython.display import clear_output\n",
    "\n",
    "from utils.dataframe import insert_value_in_mapping_gsheet, get_mapping\n",
    "\n",
    "df_mapping = get_mapping()\n",
    "df_mapping = df_mapping[(df_mapping.batch_no.isin(['1','2']))\n",
    "                       & (df_mapping.scrape_me == 'TRUE')\n",
    "                       & (df_mapping.status == '')\n",
    "                       & (df_mapping.first_department_name.str.len() == 0)]\n",
    "only_files = df_mapping.filename.values.tolist()\n",
    "for college_dir,_,files in os.walk('data'):\n",
    "    for filename in files:\n",
    "        if 'pdf' in filename and filename in only_files:\n",
    "            college = college_dir.split('data/')[-1]\n",
    "            print(college)\n",
    "            print(college_dir)\n",
    "            webbrowser.get('chromium').open(f\"file:///home/marcin/Projects/upwork/Jacob/{college_dir.replace(' ','%20')}/{filename}\", new = 2)\n",
    "            \n",
    "            first_department_page, first_department_name, last_department_page = input('first_department_page | name | last_page').split('/')\n",
    "#              = input('last_department_page')\n",
    "#              = input('fist_department_name')\n",
    "            if first_department_page == '': continue\n",
    "            avoid_first_department_name = input('avoid_first_deartment_name')\n",
    "            \n",
    "            insert_value_in_mapping_gsheet(first_department_name, college, filename, 'first_department_name')\n",
    "            insert_value_in_mapping_gsheet(avoid_first_department_name, college, filename, 'avoid_first_department_name')\n",
    "            insert_value_in_mapping_gsheet(first_department_page, college, filename, 'first_department_page')\n",
    "            insert_value_in_mapping_gsheet(last_department_page, college, filename, 'last_department_page')\n",
    "        \n",
    "            example_course_1 = input('example_course_1')\n",
    "            insert_value_in_mapping_gsheet(example_course_1, college, filename, 'example_course_1')\n",
    "            example_course_2 = input('example_course_2')\n",
    "            insert_value_in_mapping_gsheet(example_course_2, college, filename, 'example_course_2')\n",
    "            example_course_3 = input('example_course_3')\n",
    "            insert_value_in_mapping_gsheet(example_course_3, college, filename, 'example_course_3')\n",
    "\n",
    "            clear_output()\n"
   ]
  },
  {
   "cell_type": "code",
   "execution_count": 14,
   "metadata": {
    "ExecuteTime": {
     "end_time": "2020-12-24T17:04:09.198730Z",
     "start_time": "2020-12-24T17:04:09.178968Z"
    }
   },
   "outputs": [
    {
     "data": {
      "text/html": [
       "<div>\n",
       "<style scoped>\n",
       "    .dataframe tbody tr th:only-of-type {\n",
       "        vertical-align: middle;\n",
       "    }\n",
       "\n",
       "    .dataframe tbody tr th {\n",
       "        vertical-align: top;\n",
       "    }\n",
       "\n",
       "    .dataframe thead th {\n",
       "        text-align: right;\n",
       "    }\n",
       "</style>\n",
       "<table border=\"1\" class=\"dataframe\">\n",
       "  <thead>\n",
       "    <tr style=\"text-align: right;\">\n",
       "      <th></th>\n",
       "      <th>batch_no</th>\n",
       "      <th>scrape_me</th>\n",
       "      <th>scraping_engine</th>\n",
       "      <th>college</th>\n",
       "      <th>filename</th>\n",
       "      <th>first_department_name</th>\n",
       "      <th>avoid_first_department_name</th>\n",
       "      <th>first_department_page</th>\n",
       "      <th>last_department_page</th>\n",
       "      <th>regex_pattern_course_id</th>\n",
       "      <th>regex_test_start_from</th>\n",
       "      <th>example_course_1</th>\n",
       "      <th>regex_test_1</th>\n",
       "      <th>example_course_2</th>\n",
       "      <th>regex_test_2</th>\n",
       "      <th>example_course_3</th>\n",
       "      <th>regex_test_3</th>\n",
       "      <th>years_from</th>\n",
       "      <th>years_to</th>\n",
       "      <th>status</th>\n",
       "    </tr>\n",
       "  </thead>\n",
       "  <tbody>\n",
       "  </tbody>\n",
       "</table>\n",
       "</div>"
      ],
      "text/plain": [
       "Empty DataFrame\n",
       "Columns: [batch_no, scrape_me, scraping_engine, college, filename, first_department_name, avoid_first_department_name, first_department_page, last_department_page, regex_pattern_course_id, regex_test_start_from, example_course_1, regex_test_1, example_course_2, regex_test_2, example_course_3, regex_test_3, years_from, years_to, status]\n",
       "Index: []"
      ]
     },
     "execution_count": 14,
     "metadata": {},
     "output_type": "execute_result"
    }
   ],
   "source": [
    "df_mapping[df_mapping.college == \"Bowdoin\"]"
   ]
  },
  {
   "cell_type": "code",
   "execution_count": 13,
   "metadata": {
    "ExecuteTime": {
     "end_time": "2020-12-24T17:03:33.514385Z",
     "start_time": "2020-12-24T17:03:33.504293Z"
    }
   },
   "outputs": [
    {
     "data": {
      "text/plain": [
       "9       \n",
       "10      \n",
       "11      \n",
       "12      \n",
       "13      \n",
       "      ..\n",
       "484     \n",
       "485     \n",
       "486     \n",
       "487     \n",
       "488     \n",
       "Name: first_department_name, Length: 89, dtype: object"
      ]
     },
     "execution_count": 13,
     "metadata": {},
     "output_type": "execute_result"
    }
   ],
   "source": [
    "df_mapping.first_department_name"
   ]
  },
  {
   "cell_type": "code",
   "execution_count": null,
   "metadata": {},
   "outputs": [],
   "source": []
  }
 ],
 "metadata": {
  "kernelspec": {
   "display_name": "Python 3",
   "language": "python",
   "name": "python3"
  },
  "language_info": {
   "codemirror_mode": {
    "name": "ipython",
    "version": 3
   },
   "file_extension": ".py",
   "mimetype": "text/x-python",
   "name": "python",
   "nbconvert_exporter": "python",
   "pygments_lexer": "ipython3",
   "version": "3.8.6"
  },
  "toc": {
   "base_numbering": 1,
   "nav_menu": {},
   "number_sections": true,
   "sideBar": true,
   "skip_h1_title": false,
   "title_cell": "Table of Contents",
   "title_sidebar": "Contents",
   "toc_cell": false,
   "toc_position": {},
   "toc_section_display": true,
   "toc_window_display": false
  }
 },
 "nbformat": 4,
 "nbformat_minor": 4
}
