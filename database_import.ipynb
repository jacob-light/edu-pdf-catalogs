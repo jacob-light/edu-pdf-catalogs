{
 "cells": [
  {
   "cell_type": "code",
   "execution_count": 1,
   "metadata": {
    "ExecuteTime": {
     "end_time": "2020-12-22T00:52:31.769729Z",
     "start_time": "2020-12-22T00:52:31.674745Z"
    }
   },
   "outputs": [],
   "source": [
    "import os\n",
    "\n",
    "from tqdm.notebook import trange, tqdm\n",
    "from p_tqdm import p_imap\n",
    "\n",
    "from utils.pdf_processing import get_all_data\n",
    "import psycopg2\n",
    "from psycopg2.extensions import register_adapter\n",
    "from psycopg2.extras import Json"
   ]
  },
  {
   "cell_type": "code",
   "execution_count": 2,
   "metadata": {
    "ExecuteTime": {
     "end_time": "2020-12-22T00:52:32.811290Z",
     "start_time": "2020-12-22T00:52:32.802109Z"
    }
   },
   "outputs": [],
   "source": [
    "register_adapter(dict, Json)\n",
    "\n",
    "conn = psycopg2.connect(\"dbname=collegepdf user=postgres\")\n",
    "\n",
    "cur = conn.cursor()"
   ]
  },
  {
   "cell_type": "markdown",
   "metadata": {},
   "source": [
    "### Delete records in DB"
   ]
  },
  {
   "cell_type": "code",
   "execution_count": 3,
   "metadata": {
    "ExecuteTime": {
     "end_time": "2020-12-22T00:52:34.855203Z",
     "start_time": "2020-12-22T00:52:34.846542Z"
    }
   },
   "outputs": [],
   "source": [
    "sql_1 = \"DROP TABLE IF EXISTS textract;\"\n",
    "sql_2 = r\"\"\"\n",
    "CREATE TABLE textract (\n",
    "  id SERIAL PRIMARY KEY,\n",
    "  filepath VARCHAR(255) NOT NULL,\n",
    "  filename VARCHAR(255) NOT NULL,\n",
    "  college VARCHAR (255) NOT NULL,\n",
    "  pdfminer TEXT,\n",
    "  pdfminer_detailed JSON[],\n",
    "  fonts JSON,\n",
    "  pypdf2 TEXT,\n",
    "  pypdf2_detailed JSON[]\n",
    ");\n",
    "\"\"\".replace('\\n', '')\n",
    "\n",
    "for sql in [sql_1, sql_2]:\n",
    "    cur.execute(sql)\n",
    "\n",
    "sql_3 = \"\"\"\n",
    "INSERT INTO textract \n",
    "  (filepath, filename, college, pdfminer, pdfminer_detailed, pypdf2) \n",
    "  VALUES (%(filepath)s, %(filename)s, %(college)s, %(pdfminer)s, %(pdfminer_detailed)s::json[], %(pypdf2)s)\n",
    "\"\"\".replace('\\n', '')"
   ]
  },
  {
   "cell_type": "code",
   "execution_count": 4,
   "metadata": {
    "ExecuteTime": {
     "end_time": "2020-12-22T00:52:35.644593Z",
     "start_time": "2020-12-22T00:52:35.638139Z"
    }
   },
   "outputs": [],
   "source": [
    "conn.commit()"
   ]
  },
  {
   "cell_type": "markdown",
   "metadata": {},
   "source": [
    "### Append records to DB"
   ]
  },
  {
   "cell_type": "code",
   "execution_count": 5,
   "metadata": {
    "ExecuteTime": {
     "end_time": "2020-12-22T03:10:04.454505Z",
     "start_time": "2020-12-22T00:52:38.869569Z"
    },
    "scrolled": true
   },
   "outputs": [
    {
     "data": {
      "application/vnd.jupyter.widget-view+json": {
       "model_id": "a5dfd92e837e4d9eb009ba4b9814c423",
       "version_major": 2,
       "version_minor": 0
      },
      "text/plain": [
       "HBox(children=(HTML(value=''), FloatProgress(value=0.0, max=160.0), HTML(value='')))"
      ]
     },
     "metadata": {},
     "output_type": "display_data"
    },
    {
     "name": "stderr",
     "output_type": "stream",
     "text": [
      "/home/marcin/.local/lib/python3.8/site-packages/pdfminer/pdfpage.py:140: PDFTextExtractionNotAllowedWarning: The PDF <_io.BufferedReader name='data/UCLA/UCLA_2001–03.pdf'> contains a metadata field indicating that it should not allow text extraction. Ignoring this field and proceeding.\n",
      "  warnings.warn(warning_msg, PDFTextExtractionNotAllowedWarning)\n",
      "/home/marcin/.local/lib/python3.8/site-packages/pdfminer/pdfpage.py:140: PDFTextExtractionNotAllowedWarning: The PDF <_io.BufferedReader name='data/UCLA/UCLA_2007–08.pdf'> contains a metadata field indicating that it should not allow text extraction. Ignoring this field and proceeding.\n",
      "  warnings.warn(warning_msg, PDFTextExtractionNotAllowedWarning)\n",
      "/home/marcin/.local/lib/python3.8/site-packages/pdfminer/pdfpage.py:140: PDFTextExtractionNotAllowedWarning: The PDF <_io.BufferedReader name='data/UCLA/UCLA_2009–10.pdf'> contains a metadata field indicating that it should not allow text extraction. Ignoring this field and proceeding.\n",
      "  warnings.warn(warning_msg, PDFTextExtractionNotAllowedWarning)\n",
      "PdfReadWarning: Xref table not zero-indexed. ID numbers for objects will be corrected. [pdf.py:1736]\n",
      "PdfReadWarning: Xref table not zero-indexed. ID numbers for objects will be corrected. [pdf.py:1736]\n"
     ]
    },
    {
     "name": "stdout",
     "output_type": "stream",
     "text": [
      "UCLA_2017–18.pdf\n",
      "UCLA_2009–10.pdf\n",
      "UCLA_1997–99.pdf\n",
      "UCLA_2007–08.pdf\n",
      "UCLA_1995–97.pdf\n"
     ]
    },
    {
     "name": "stderr",
     "output_type": "stream",
     "text": [
      "PDFTextExtractionNotAllowedWarning: The PDF <_io.BufferedReader name='data/UCLA/UCLA_2005–07.pdf'> contains a metadata field indicating that it should not allow text extraction. Ignoring this field and proceeding. [pdfpage.py:140]\n"
     ]
    },
    {
     "name": "stdout",
     "output_type": "stream",
     "text": [
      "UCLA_2013–14.pdf\n",
      "UCLA_2001–03.pdf\n",
      "UCLA_2008–09.pdf\n",
      "UCLA_2010–11.pdf\n",
      "UCLA_2016–17.pdf\n",
      "UCLA_2011–12.pdf\n"
     ]
    },
    {
     "name": "stderr",
     "output_type": "stream",
     "text": [
      "PdfReadWarning: Xref table not zero-indexed. ID numbers for objects will be corrected. [pdf.py:1736]\n",
      "PdfReadWarning: Xref table not zero-indexed. ID numbers for objects will be corrected. [pdf.py:1736]\n"
     ]
    },
    {
     "name": "stdout",
     "output_type": "stream",
     "text": [
      "UCLA_2019–20.pdf\n"
     ]
    },
    {
     "name": "stderr",
     "output_type": "stream",
     "text": [
      "PdfReadWarning: Xref table not zero-indexed. ID numbers for objects will be corrected. [pdf.py:1736]\n",
      "PdfReadWarning: Xref table not zero-indexed. ID numbers for objects will be corrected. [pdf.py:1736]\n",
      "PdfReadWarning: Xref table not zero-indexed. ID numbers for objects will be corrected. [pdf.py:1736]\n"
     ]
    },
    {
     "name": "stdout",
     "output_type": "stream",
     "text": [
      "UCLA_2018–19.pdf\n",
      "UCLA_1992–93.pdf\n",
      "UCLA_2003–05.pdf\n",
      "UCLA_2012–13.pdf\n"
     ]
    },
    {
     "name": "stderr",
     "output_type": "stream",
     "text": [
      "PdfReadWarning: Xref table not zero-indexed. ID numbers for objects will be corrected. [pdf.py:1736]\n"
     ]
    },
    {
     "name": "stdout",
     "output_type": "stream",
     "text": [
      "UCLA_1994–95.pdf\n"
     ]
    },
    {
     "name": "stderr",
     "output_type": "stream",
     "text": [
      "PdfReadWarning: Xref table not zero-indexed. ID numbers for objects will be corrected. [pdf.py:1736]\n"
     ]
    },
    {
     "name": "stdout",
     "output_type": "stream",
     "text": [
      "UCLA_2005–07.pdf\n",
      "UCLA_2014–15.pdf\n",
      "UCLA_1991–92.pdf\n",
      "UCLA_2015–16.pdf\n",
      "UCLA_1993–94.pdf\n",
      "UCLA_1999–2001.pdf\n",
      "U Conn_2008-2009.pdf\n",
      "U Conn_2010-2011.pdf\n",
      "U Conn_2007-2008.pdf\n",
      "U Conn_2015-2016.pdf\n",
      "U Conn_2016-2017.pdf\n",
      "U Conn_2014-2015.pdf\n",
      "U Conn_2006-2007.pdf\n",
      "U Conn_2017-2018.pdf\n",
      "U Conn_1998-1999.pdf\n",
      "U Conn_2005-2006.pdf\n",
      "U Conn_2000-2001.pdf\n",
      "U Conn_2018-2019.pdf\n",
      "U Conn_2012-2013.pdf\n",
      "U Conn_2002-2003.pdf\n",
      "U Conn_2003-2004.pdf\n",
      "U Conn_1999-2000.pdf\n"
     ]
    },
    {
     "name": "stderr",
     "output_type": "stream",
     "text": [
      "PdfReadWarning: Xref table not zero-indexed. ID numbers for objects will be corrected. [pdf.py:1736]\n"
     ]
    },
    {
     "name": "stdout",
     "output_type": "stream",
     "text": [
      "U Conn_2011-2012.pdf\n",
      "U Conn_2009-2010.pdf\n",
      "U Conn_2001-2002.pdf\n",
      "U Conn_2004-2005.pdf\n"
     ]
    },
    {
     "name": "stderr",
     "output_type": "stream",
     "text": [
      "PdfReadWarning: Xref table not zero-indexed. ID numbers for objects will be corrected. [pdf.py:1736]\n"
     ]
    },
    {
     "name": "stdout",
     "output_type": "stream",
     "text": [
      "U Conn_2019-2020.pdf\n",
      "U Conn_2013-2014.pdf\n",
      "Bowdoin_2014-2015.pdf\n",
      "Bowdoin_2016-2017.pdf\n",
      "Bowdoin_2015-2016.pdf\n",
      "Bowdoin_2019-2020.pdf\n",
      "Bowdoin_2012-2013.pdf\n",
      "Bowdoin_2018-2019.pdf\n",
      "Bowdoin_2013-2014.pdf\n",
      "Bowdoin_2010-2011.pdf\n",
      "Bowdoin_2011-2012.pdf\n",
      "Bowdoin_2009-2010.pdf\n",
      "Bowdoin_2017-2018.pdf\n",
      "Bowdoin_2019-2020.pdf\n",
      "Bowdoin_2016-2017.pdf\n",
      "Bowdoin_2010-2011.pdf\n",
      "Bowdoin_2013-2014.pdf\n",
      "Bowdoin_2009-2010.pdf\n",
      "Bowdoin_2015-2016.pdf\n",
      "Bowdoin_2017-2018.pdf\n",
      "Bowdoin_2018-2019.pdf\n",
      "Bowdoin_2012-2013.pdf\n",
      "Bowdoin_2011-2012.pdf\n",
      "Bowdoin_2014-2015.pdf\n",
      "Arkansas_2017-2018.pdf\n",
      "Arkansas_2002-2003.pdf\n",
      "Arkansas_2012-2013.pdf\n",
      "Arkansas_2010-2011.pdf\n",
      "Arkansas_2011-2012.pdf\n",
      "Arkansas_2015-2016.pdf\n",
      "Arkansas_2007-2008.pdf\n",
      "Arkansas_2016-2017.pdf\n",
      "Arkansas_2013-2014.pdf\n",
      "Arkansas_2003-2004.pdf\n",
      "Arkansas_2018-2019.pdf\n",
      "Arkansas_2014-2015.pdf\n",
      "Arkansas_2009-2010.pdf\n",
      "Arkansas_2006-2007.pdf\n",
      "Arkansas_2019-2020.pdf\n",
      "Arkansas_2008-2009.pdf\n",
      "Arkansas_2001-2002.pdf\n",
      "Arkansas_2004-2005.pdf\n",
      "Arkansas_2014-2015.pdf\n",
      "Arkansas_2016-2017.pdf\n",
      "Arkansas_2018-2019.pdf\n"
     ]
    },
    {
     "name": "stderr",
     "output_type": "stream",
     "text": [
      "PdfReadWarning: Xref table not zero-indexed. ID numbers for objects will be corrected. [pdf.py:1736]\n"
     ]
    },
    {
     "name": "stdout",
     "output_type": "stream",
     "text": [
      "Arkansas_2019-2020.pdf\n",
      "Arkansas_2015-2016.pdf\n",
      "Arkansas_2020-2021.pdf\n",
      "Arkansas_2017-2018.pdf\n",
      "Arkansas_2020-2021.pdf\n",
      "Ohio State_2016-2017.pdf\n",
      "Ohio State_2014-2015.pdf\n",
      "Ohio State_2009-2010.pdf\n",
      "Ohio State_2020-2021.pdf\n",
      "Ohio State_2006-2007.pdf\n",
      "Ohio State_2019-2020.pdf\n",
      "Ohio State_2017-2018.pdf\n",
      "Ohio State_2013-2014.pdf\n",
      "Ohio State_2008-2009.pdf\n",
      "Ohio State_2018-2019.pdf\n",
      "Ohio State_2005-2006.pdf\n",
      "Ohio State_2012-2013.pdf\n",
      "Ohio State_2010-2011.pdf\n",
      "Ohio State_2015-2016.pdf\n",
      "Ohio State_2007-2008.pdf\n",
      "Colorado - Boulder_1995-1996.pdf\n",
      "Colorado - Boulder_2009-2010.pdf\n",
      "Colorado - Boulder_2002-2003.pdf\n",
      "Colorado - Boulder_1989-1990.pdf\n",
      "Colorado - Boulder_2000-2001.pdf\n",
      "Colorado - Boulder_2004-2005.pdf\n",
      "Colorado - Boulder_2003-2004.pdf\n",
      "Colorado - Boulder_1994-1995.pdf\n",
      "Colorado - Boulder_2005-2006.pdf\n",
      "Colorado - Boulder_2017-2018.pdf\n",
      "Colorado - Boulder_1993-1994.pdf\n",
      "Colorado - Boulder_2016-2017.pdf\n",
      "Colorado - Boulder_1991-1992.pdf\n",
      "Colorado - Boulder_2001-2002.pdf\n",
      "Colorado - Boulder_2007-2008.pdf\n",
      "Colorado - Boulder_2011-2012.pdf\n",
      "Colorado - Boulder_2012-2013.pdf\n",
      "Colorado - Boulder_1992-1993.pdf\n",
      "Colorado - Boulder_2018-2019.pdf\n",
      "Colorado - Boulder_2010-2011.pdf\n",
      "Colorado - Boulder_2019-2020.pdf\n",
      "Colorado - Boulder_1997-1998.pdf\n",
      "Colorado - Boulder_1999-2000.pdf\n",
      "Colorado - Boulder_1996-1997.pdf\n",
      "Colorado - Boulder_2008-2009.pdf\n",
      "Colorado - Boulder_1998-1999.pdf\n",
      "Colorado - Boulder_1990-1991.pdf\n",
      "Colorado - Boulder_2006-2007.pdf\n",
      "ucb_1996-97_catalog.pdf\n",
      "ucb_1991-92_catalog.pdf\n",
      "ucb_1993-94_catalog.pdf\n",
      "ucb_1994-95_catalog.pdf\n",
      "ucb_1992-93_catalog.pdf\n",
      "ucb_1997-98_catalog.pdf\n",
      "ucb_1998-99_catalog.pdf\n",
      "ucb_1990-91_catalog.pdf\n",
      "ucb_1999-2000_catalog.pdf\n",
      "ucb_2013-14_catalog.pdf\n",
      "ucb_2015-16_catalog.pdf\n",
      "ucb_2014-15_catalog.pdf\n",
      "2014-2015+Catalog+pt+2+(+courses+&+undergrad+programs).pdf\n",
      "2008-2010 University of Minnesot Twin Cities Undergraduate Catalog.pdf\n",
      "1999-2000 University of Minnesota Twin Cities Undergraduate Catalog.pdf\n",
      "2014-2016 University of Minnesota Twin Cities Undergraduate Catalog.pdf\n",
      "2006-2008 University of Minnesota Twin Cities Undergraduate Catalog.pdf\n",
      "2010-2012 University of Minnesota Twin Cities Undergraduate Catalog.pdf\n",
      "2002-2004 University of Minnesota Twin Cities Undergraduate Catalog.pdf\n",
      "2016-2018 University of Minnesota Twin Cities Undergraduate Catalog.pdf\n",
      "2018-2020 University of Minnesota Twin Cities Undergraduate Catalog.pdf\n",
      "2012-2014 University of Minnesota Twin Cities Undergraduate Catalog.pdf\n",
      "2004-2006 University of Minnesota Twin Cities Undergraduate Catalog.pdf\n",
      "2000-2002 University of Minnesota Twin Cities Undergraduate Catalog.pdf\n",
      "\n"
     ]
    }
   ],
   "source": [
    "batch_1 = ['Arkansas', 'Bowdoin', 'Ohio State']\n",
    "batch_2 = ['Colorado - Boulder', 'Minnesota Twin Cities', 'UCLA', 'U Conn']\n",
    "limit_folders = batch_1 + batch_2\n",
    "# limit_folders = []\n",
    "\n",
    "files = [directory + '/' + file\n",
    "         for directory, _, files in list(os.walk('data'))\n",
    "         for file in files\n",
    "         if '.pdf' in file\n",
    "         and (directory.split('/')[1] in limit_folders\n",
    "              if len(limit_folders) != 0\n",
    "              else True)]\n",
    "\n",
    "fn = lambda path: get_all_data(path)\n",
    "\n",
    "# # multiprocessing + tqdm\n",
    "iterator = p_imap(fn, files)\n",
    "\n",
    "for result in iterator:\n",
    "    try:\n",
    "        cur.execute(sql_3, result)\n",
    "        print(result['filename'])\n",
    "    except Exception as e:\n",
    "        print(f, e)\n",
    "\n",
    "conn.commit()\n",
    "\n"
   ]
  },
  {
   "cell_type": "code",
   "execution_count": 6,
   "metadata": {
    "ExecuteTime": {
     "end_time": "2020-12-22T08:38:44.255560Z",
     "start_time": "2020-12-22T03:10:04.464468Z"
    }
   },
   "outputs": [
    {
     "data": {
      "application/vnd.jupyter.widget-view+json": {
       "model_id": "7050b4fbc84a40f3bdced401b6b93d9f",
       "version_major": 2,
       "version_minor": 0
      },
      "text/plain": [
       "HBox(children=(HTML(value=''), FloatProgress(value=0.0, max=540.0), HTML(value='')))"
      ]
     },
     "metadata": {},
     "output_type": "display_data"
    },
    {
     "name": "stderr",
     "output_type": "stream",
     "text": [
      "PdfReadWarning: Xref table not zero-indexed. ID numbers for objects will be corrected. [pdf.py:1736]\n",
      "PdfReadWarning: Xref table not zero-indexed. ID numbers for objects will be corrected. [pdf.py:1736]\n",
      "PdfReadWarning: Xref table not zero-indexed. ID numbers for objects will be corrected. [pdf.py:1736]\n",
      "PdfReadWarning: Xref table not zero-indexed. ID numbers for objects will be corrected. [pdf.py:1736]\n",
      "PdfReadWarning: Xref table not zero-indexed. ID numbers for objects will be corrected. [pdf.py:1736]\n",
      "PdfReadWarning: Xref table not zero-indexed. ID numbers for objects will be corrected. [pdf.py:1736]\n",
      "PdfReadWarning: Xref table not zero-indexed. ID numbers for objects will be corrected. [pdf.py:1736]\n",
      "PdfReadWarning: Xref table not zero-indexed. ID numbers for objects will be corrected. [pdf.py:1736]\n"
     ]
    },
    {
     "name": "stdout",
     "output_type": "stream",
     "text": [
      "Iowa_2006-20.pdf\n"
     ]
    },
    {
     "name": "stderr",
     "output_type": "stream",
     "text": [
      "PdfReadWarning: Xref table not zero-indexed. ID numbers for objects will be corrected. [pdf.py:1736]\n",
      "PdfReadWarning: Xref table not zero-indexed. ID numbers for objects will be corrected. [pdf.py:1736]\n",
      "PdfReadWarning: Xref table not zero-indexed. ID numbers for objects will be corrected. [pdf.py:1736]\n",
      "PdfReadWarning: Xref table not zero-indexed. ID numbers for objects will be corrected. [pdf.py:1736]\n"
     ]
    },
    {
     "name": "stdout",
     "output_type": "stream",
     "text": [
      "Iowa_2018-19.pdf\n",
      "Iowa_1978-80.pdf\n",
      "Iowa_2007-08.pdf\n",
      "Iowa_1998-20.pdf\n",
      "Iowa_1986-88.pdf\n",
      "Iowa_1996-98.pdf\n",
      "Iowa_1990-92.pdf\n",
      "Iowa_1980-82.pdf\n",
      "Iowa_,1976-7.pdf\n",
      "Iowa_2002-20.pdf\n",
      "Iowa_2000-20.pdf\n",
      "Iowa_2019-20.pdf\n",
      "Iowa_1984-86.pdf\n",
      "Iowa_2016-17.pdf\n",
      "Iowa_2015-16.pdf\n",
      "Iowa_1994-96.pdf\n",
      "Iowa_2014-15.pdf\n",
      "Iowa_2010-11.pdf\n",
      "Iowa_2011-12.pdf\n",
      "Iowa_2013-14.pdf\n",
      "Iowa_2009-10.pdf\n",
      "Iowa_2005-20.pdf\n",
      "Iowa_1982-84.pdf\n",
      "Iowa_2012-13.pdf\n",
      "Iowa_,1972-7.pdf\n",
      "Iowa_1992-94.pdf\n",
      "Iowa_2004-20.pdf\n",
      "Iowa_2008-09.pdf\n",
      "Iowa_1970-19.pdf\n",
      "Iowa_1988-90.pdf\n",
      "Iowa_,1974-7.pdf\n",
      "Iowa_2017-18.pdf\n",
      "Duke_2001.pdf\n",
      "Duke_2010.pdf\n",
      "Duke_2007.pdf\n",
      "Duke_2015.pdf\n",
      "Duke_2011.pdf\n",
      "Duke_2002.pdf\n",
      "Duke_2014.pdf\n",
      "Duke_2020.pdf\n",
      "Duke_2013.pdf\n",
      "Duke_2000.pdf\n",
      "Duke_2012.pdf\n",
      "Duke_2008.pdf\n",
      "Duke_1999.pdf\n",
      "Duke_2018.pdf\n",
      "Duke_2003.pdf\n",
      "Duke_2009.pdf\n",
      "Duke_2006.pdf\n",
      "Duke_2004.pdf\n",
      "Duke_2019.pdf\n",
      "Duke_2016.pdf\n",
      "Duke_2005.pdf\n",
      "Duke_2017.pdf\n",
      "Colby_2016-2017.pdf\n",
      "Colby_2017-2018.pdf\n",
      "Colby_2012-2013.pdf\n",
      "Colby_2020-2021.pdf\n",
      "Colby_2018-2019.pdf\n",
      "Colby_2013-2014.pdf\n",
      "Colby_2011-2012.pdf\n",
      "Colby_2019-2020.pdf\n",
      "Colby_2014-2015.pdf\n",
      "Colby_2015-2016.pdf\n",
      "Oregon_2006–2007.pdf\n",
      "Oregon_2015–2016.pdf\n",
      "Oregon_2020–2021.pdf\n",
      "Oregon_2004–2005.pdf\n",
      "Oregon_1995–1996.pdf\n",
      "Oregon_2017–2018.pdf\n",
      "Oregon_2003–2004.pdf\n",
      "Oregon_2013–2014.pdf\n",
      "Oregon_2012–2013.pdf\n",
      "Oregon_2010–2011.pdf\n",
      "Oregon_2008–2009.pdf\n",
      "Oregon_2018–2019.pdf\n",
      "Oregon_1997–1998.pdf\n",
      "Oregon_1998–1999.pdf\n",
      "Oregon_1996–1997.pdf\n",
      "Oregon_2014–2015.pdf\n",
      "Oregon_2005–2006.pdf\n",
      "Oregon_2000–2001.pdf\n",
      "Oregon_2009–2010.pdf\n",
      "Oregon_2011–2012.pdf\n",
      "Oregon_2007–2008.pdf\n",
      "Oregon_1994–1995.pdf\n",
      "Oregon_2002–2003.pdf\n",
      "Oregon_2001–2002.pdf\n",
      "Oregon_2016–2017.pdf\n",
      "Oregon_1999–2000.pdf\n",
      "Alabama_2019-2020.pdf\n",
      "Alabama_2013-2014.pdf\n",
      "Alabama_2017-2018.pdf\n",
      "Alabama_2015-2016.pdf\n",
      "Alabama_2016-2017.pdf\n",
      "Alabama_2014-2015.pdf\n",
      "Alabama_2012-2013.pdf\n",
      "Alabama_2010-2012.pdf\n",
      "Alabama_2018-2019.pdf\n",
      "Gonzaga_2014-2015.pdf\n",
      "Gonzaga_2007-2009.pdf\n",
      "Gonzaga_2013-2014.pdf\n",
      "Gonzaga_2016-2017.pdf\n",
      "Gonzaga_2005-2007.pdf\n",
      "Gonzaga_2003-2005.pdf\n",
      "Gonzaga_2018-2019.pdf\n",
      "Gonzaga_2015-2016.pdf\n",
      "Gonzaga_2019-2020.pdf\n",
      "Gonzaga_2017-2018.pdf\n",
      "Gonzaga_2009-2011.pdf\n",
      "Gonzaga_2012-2013.pdf\n",
      "Gonzaga_2020-2021.pdf\n",
      "Gonzaga_2011-2012.pdf\n",
      "Clemson_2009-2010.pdf\n",
      "Clemson_1999-2000.pdf\n",
      "Clemson_2013-2014.pdf\n",
      "Clemson_2007-2008.pdf\n",
      "Clemson_1998-1999.pdf\n",
      "Clemson_2010-2011.pdf\n",
      "Clemson_1990-1991.pdf\n",
      "Clemson_1995-1996.pdf\n",
      "Clemson_2016-2017.pdf\n",
      "Clemson_2014-2015.pdf\n",
      "Clemson_2008-2009.pdf\n",
      "Clemson_1988-1989.pdf\n",
      "Clemson_2012-2013.pdf\n",
      "Clemson_1996-1997.pdf\n",
      "Clemson_1997-1998.pdf\n",
      "Clemson_2005-2006.pdf\n",
      "Clemson_2000-2001.pdf\n",
      "Clemson_1994-1995.pdf\n",
      "Clemson_1989-1990.pdf\n",
      "Clemson_1992-1993.pdf\n",
      "Clemson_2001-2002.pdf\n",
      "Clemson_2002-2003.pdf\n",
      "Clemson_2003-2004.pdf\n",
      "Clemson_2011-2012.pdf\n",
      "Clemson_2004-2005.pdf\n",
      "Clemson_1993-1994.pdf\n",
      "Clemson_1991-1992.pdf\n",
      "Clemson_2006-2007.pdf\n",
      "Clemson_2015-2016.pdf\n",
      "La Roche_2012-2013.pdf\n",
      "La Roche_2019-2020.pdf\n",
      "La Roche_2015-2016.pdf\n",
      "La Roche_2010-2011.pdf\n",
      "La Roche_2008-2009.pdf\n",
      "La Roche_2016-2017.pdf\n",
      "La Roche_2011-2012.pdf\n",
      "La Roche_2017-2018.pdf\n",
      "La Roche_2013-2014.pdf\n",
      "La Roche_2014-2015.pdf\n",
      "La Roche_2018-2019.pdf\n",
      "La Roche_2009-2010.pdf\n",
      "La Roche_2020-2021.pdf\n",
      "Marshall_2017-2018.pdf\n",
      "Marshall_2009-2010.pdf\n",
      "Marshall_2014-2015.pdf\n",
      "Marshall_2018-2019.pdf\n",
      "Marshall_2010-2011.pdf\n",
      "Marshall_2005-2007.pdf\n",
      "Marshall_2013-2014.pdf\n",
      "Marshall_2008-2009.pdf\n",
      "Marshall_2007-2008.pdf\n",
      "Marshall_2012-2013.pdf\n",
      "Marshall_2011-2012.pdf\n",
      "Marshall_2016-2017.pdf\n",
      "Marshall_2019-2020.pdf\n",
      "Marshall_2015-2016.pdf\n",
      "Berkeley_2003-2005.pdf\n",
      "Berkeley_1995-1997.pdf\n",
      "Berkeley_1987-1988.pdf\n",
      "Berkeley_1989-1990.pdf\n",
      "Berkeley_1994-1995.pdf\n",
      "Berkeley_1999-2001.pdf\n",
      "Berkeley_1988-1989.pdf\n",
      "Berkeley_1992-1993.pdf\n",
      "Berkeley_2001-2003.pdf\n",
      "Berkeley_1991-1992.pdf\n",
      "Berkeley_2005-2007.pdf\n",
      "Berkeley_1990-1991.pdf\n",
      "Berkeley_1997-1999.pdf\n",
      "Berkeley_2009-2011.pdf\n",
      "Berkeley_2007-2009.pdf\n",
      "Berkeley_2011-2013.pdf\n",
      "Berkeley_1993-1994.pdf\n",
      "Creighton_2009-10.pdf\n",
      "Creighton_2019-20.pdf\n",
      "Creighton_1998-00.pdf\n",
      "Creighton_2007-08.pdf\n",
      "Creighton_2005-06.pdf\n",
      "Creighton_2011-12.pdf\n",
      "Creighton_2013-14.pdf\n",
      "Creighton_1999-00.pdf\n",
      "Creighton_2017-18.pdf\n",
      "Creighton_2018-19.pdf\n",
      "Creighton_2002-03.pdf\n",
      "Creighton_2004-05.pdf\n",
      "Creighton_2003-04.pdf\n",
      "Creighton_2008-09.pdf\n",
      "Creighton_1996-98.pdf\n",
      "Creighton_2010-11.pdf\n",
      "Creighton_2014-15.pdf\n",
      "Creighton_2016-17.pdf\n",
      "Creighton_2015-16.pdf\n",
      "Creighton_2006-07.pdf\n",
      "Creighton_2012-13.pdf\n",
      "Creighton_2001-02.pdf\n",
      "Bryn Mawr_2019-20.pdf\n",
      "Bryn Mawr_2020-21.pdf\n",
      "Bryn Mawr_2017-18.pdf\n",
      "Bryn Mawr_2015-16.pdf\n",
      "Bryn Mawr_2012-13.pdf\n",
      "Bryn Mawr_2011-12.pdf\n",
      "Bryn Mawr_2018-19.pdf\n",
      "Bryn Mawr_2016-17.pdf\n",
      "Bryn Mawr_2014-15.pdf\n",
      "Bryn Mawr_2013-14.pdf\n",
      "Bryn Mawr_2010-11.pdf\n",
      "Swarthmore_2014-2015.pdf\n",
      "Swarthmore_2015-2016.pdf\n",
      "Swarthmore_2013-2014.pdf\n",
      "Swarthmore_2017-2018.pdf\n",
      "Swarthmore_2012-2013.pdf\n",
      "Swarthmore_2008-2009.pdf\n",
      "Swarthmore_2010-2011.pdf\n",
      "Swarthmore_2011-2012.pdf\n",
      "Swarthmore_2016-2017.pdf\n",
      "Swarthmore_2009-2010.pdf\n",
      "Swarthmore_2018-2019.pdf\n",
      "Swarthmore_2019-2020.pdf\n",
      "CSU Fresno_2007-2008.pdf\n",
      "CSU Fresno_2010-2011.pdf\n",
      "CSU Fresno_1998-1999.pdf\n",
      "CSU Fresno_2011-2012.pdf\n",
      "CSU Fresno_1999-2000.pdf\n",
      "CSU Fresno_2008-2009.pdf\n",
      "CSU Fresno_2004-2005.pdf\n",
      "CSU Fresno_2012-2013.pdf\n",
      "CSU Fresno_1997-1998.pdf\n",
      "CSU Fresno_2002-2003.pdf\n",
      "CSU Fresno_2006-2007.pdf\n",
      "CSU Fresno_2009-2010.pdf\n",
      "CSU Fresno_2013-2014.pdf\n",
      "CSU Fresno_2019-2020.pdf\n",
      "CSU Fresno_2016-2017.pdf\n",
      "CSU Fresno_2000-2001.pdf\n",
      "CSU Fresno_2005-2006.pdf\n",
      "CSU Fresno_2018-2019.pdf\n",
      "CSU Fresno_2014-2015.pdf\n",
      "CSU Fresno_2003-2004.pdf\n",
      "CSU Fresno_2015-2016.pdf\n",
      "CSU Fresno_2017-2018.pdf\n",
      "CSU Fresno_2001-2002.pdf\n",
      "UW - Tacoma_2019-20.pdf\n",
      "UW - Tacoma_2006-07.pdf\n",
      "UW - Tacoma_2008-09.pdf\n",
      "UW - Tacoma_2005-06.pdf\n",
      "UW - Tacoma_2014-15.pdf\n",
      "UW - Tacoma_2011-12.pdf\n",
      "UW - Tacoma_2001-02.pdf\n",
      "UW - Tacoma_2003-04.pdf\n",
      "UW - Tacoma_2004-05.pdf\n",
      "UW - Tacoma_2009-10.pdf\n",
      "UW - Tacoma_2015-16.pdf\n",
      "UW - Tacoma_2013-14.pdf\n",
      "UW - Tacoma_2010-11.pdf\n",
      "UW - Tacoma_2002-03.pdf\n",
      "UW - Tacoma_2016-17.pdf\n",
      "UW - Tacoma_2017-18.pdf\n",
      "UW - Tacoma_2020-21.pdf\n",
      "UW - Tacoma_2007-08.pdf\n",
      "UW - Tacoma_2012-13.pdf\n",
      "UW - Tacoma_2018-19.pdf\n",
      "Wayne State_1999-2001.pdf\n",
      "Wayne State_1989-1991.pdf\n",
      "Wayne State_2015-2017.pdf\n",
      "Wayne State_2003-2005.pdf\n"
     ]
    },
    {
     "name": "stderr",
     "output_type": "stream",
     "text": [
      "PDFTextExtractionNotAllowedWarning: The PDF <_io.BufferedReader name='data/George Mason/George Mason_2005-2006.pdf'> contains a metadata field indicating that it should not allow text extraction. Ignoring this field and proceeding. [pdfpage.py:140]\n",
      "PDFTextExtractionNotAllowedWarning: The PDF <_io.BufferedReader name='data/George Mason/George Mason_2004-2005.pdf'> contains a metadata field indicating that it should not allow text extraction. Ignoring this field and proceeding. [pdfpage.py:140]\n",
      "PDFTextExtractionNotAllowedWarning: The PDF <_io.BufferedReader name='data/George Mason/George Mason_2007-2008.pdf'> contains a metadata field indicating that it should not allow text extraction. Ignoring this field and proceeding. [pdfpage.py:140]\n",
      "PDFTextExtractionNotAllowedWarning: The PDF <_io.BufferedReader name='data/George Mason/George Mason_2006-2007.pdf'> contains a metadata field indicating that it should not allow text extraction. Ignoring this field and proceeding. [pdfpage.py:140]\n",
      "PDFTextExtractionNotAllowedWarning: The PDF <_io.BufferedReader name='data/George Mason/George Mason_2008-2009.pdf'> contains a metadata field indicating that it should not allow text extraction. Ignoring this field and proceeding. [pdfpage.py:140]\n",
      "PDFTextExtractionNotAllowedWarning: The PDF <_io.BufferedReader name='data/George Mason/George Mason_2002-2003.pdf'> contains a metadata field indicating that it should not allow text extraction. Ignoring this field and proceeding. [pdfpage.py:140]\n",
      "PDFTextExtractionNotAllowedWarning: The PDF <_io.BufferedReader name='data/George Mason/George Mason_2003-2004.pdf'> contains a metadata field indicating that it should not allow text extraction. Ignoring this field and proceeding. [pdfpage.py:140]\n",
      "PDFTextExtractionNotAllowedWarning: The PDF <_io.BufferedReader name='data/Shoreline CC/Shoreline CC_2004-2005.pdf'> contains a metadata field indicating that it should not allow text extraction. Ignoring this field and proceeding. [pdfpage.py:140]\n"
     ]
    },
    {
     "name": "stdout",
     "output_type": "stream",
     "text": [
      "Wayne State_2018-2019.pdf\n",
      "Wayne State_2001-2003.pdf\n",
      "Wayne State_2011-2013.pdf\n",
      "Wayne State_2013-2015.pdf\n",
      "Wayne State_2017-2018.pdf\n",
      "Wayne State_1993-1995.pdf\n",
      "Wayne State_2019-2020.pdf\n",
      "Wayne State_1997-1999.pdf\n",
      "Wayne State_2007-2009.pdf\n",
      "Wayne State_1991-1993.pdf\n",
      "Wayne State_1995-1997.pdf\n",
      "Wayne State_2005-2007.pdf\n",
      "Wayne State_2009-2011.pdf\n",
      "Wayne State_1987-1989.pdf\n",
      "Great Basin_2007-08.pdf\n",
      "Great Basin_2019-20.pdf\n",
      "Great Basin_2017-18.pdf\n",
      "Great Basin_2006-07.pdf\n",
      "Great Basin_2016-17.pdf\n",
      "Great Basin_2008-09.pdf\n",
      "Great Basin_2003-04.pdf\n",
      "Great Basin_2013-14.pdf\n",
      "Great Basin_2015-16.pdf\n",
      "Great Basin_2005-06.pdf\n",
      "Great Basin_2018-19.pdf\n",
      "Great Basin_2009-10.pdf\n",
      "Great Basin_2004-05.pdf\n",
      "Great Basin_2001-02.pdf\n",
      "Great Basin_2002-03.pdf\n",
      "Great Basin_2011-12.pdf\n",
      "Great Basin_2010-11.pdf\n",
      "Great Basin_2012-13.pdf\n",
      "Great Basin_2014-15.pdf\n",
      "Great Basin_2020-2021.pdf\n",
      "Shippensburg_2019-2021.pdf\n",
      "Shippensburg_2017-2019.pdf\n",
      "Shippensburg_2013-2015.pdf\n",
      "Shippensburg_2015-2017.pdf\n",
      "Shippensburg_2003-2005.pdf\n",
      "Shippensburg_2007-2009.pdf\n",
      "Shippensburg_2009-2011.pdf\n",
      "Shippensburg_2011-2013.pdf\n",
      "Shippensburg_2005-2007.pdf\n",
      "George Mason_2005-2006.pdf\n",
      "George Mason_2008-2009.pdf\n",
      "George Mason_2004-2005.pdf\n",
      "George Mason_2002-2003.pdf\n",
      "George Mason_2003-2004.pdf\n",
      "George Mason_2007-2008.pdf\n",
      "George Mason_2006-2007.pdf\n",
      "Old Dominion_2014-2015.pdf\n",
      "Old Dominion_2013-2014.pdf\n",
      "Old Dominion_2008-2009.pdf\n",
      "Old Dominion_2017-2018.pdf\n",
      "Old Dominion_2012-2013.pdf\n",
      "Old Dominion_2009-2010.pdf\n",
      "Old Dominion_2011-2012.pdf\n",
      "Old Dominion_2016-2017.pdf\n",
      "Old Dominion_2015-2016.pdf\n",
      "Old Dominion_2019-2020.pdf\n"
     ]
    },
    {
     "name": "stderr",
     "output_type": "stream",
     "text": [
      "PDFTextExtractionNotAllowedWarning: The PDF <_io.BufferedReader name='data/Bowling Green/Bowling Green_Fall2015.pdf'> contains a metadata field indicating that it should not allow text extraction. Ignoring this field and proceeding. [pdfpage.py:140]\n"
     ]
    },
    {
     "name": "stdout",
     "output_type": "stream",
     "text": [
      "Old Dominion_2010-2011.pdf\n",
      "Old Dominion_2020-2021.pdf\n",
      "Old Dominion_2018-2019.pdf\n",
      "Old Dominion_2006-2008.pdf\n",
      "Old Dominion_2004-2006.pdf\n",
      "Shoreline CC_2005-2006.pdf\n",
      "Shoreline CC_2012-2013.pdf\n",
      "Shoreline CC_2004-2005.pdf\n",
      "Shoreline CC_2013-2014.pdf\n",
      "Shoreline CC_2011-2012.pdf\n",
      "Shoreline CC_2009-2010.pdf\n",
      "Shoreline CC_2010-2011.pdf\n",
      "Shoreline CC_2017-2018.pdf\n",
      "Shoreline CC_2008-2009.pdf\n",
      "Shoreline CC_2014-2015.pdf\n",
      "Shoreline CC_2015-2016.pdf\n",
      "Shoreline CC_2002-2003.pdf\n",
      "Shoreline CC_2016-2017.pdf\n"
     ]
    },
    {
     "name": "stderr",
     "output_type": "stream",
     "text": [
      "PDFTextExtractionNotAllowedWarning: The PDF <_io.BufferedReader name='data/Bowling Green/Bowling Green_Fall2011.pdf'> contains a metadata field indicating that it should not allow text extraction. Ignoring this field and proceeding. [pdfpage.py:140]\n"
     ]
    },
    {
     "name": "stdout",
     "output_type": "stream",
     "text": [
      "Shoreline CC_2006-2007.pdf\n",
      "Shoreline CC_2003-2004.pdf\n",
      "William Carey_2016-2017.pdf\n",
      "William Carey_2009-2010.pdf\n",
      "William Carey_2014-2015.pdf\n",
      "William Carey_2018-2019.pdf\n",
      "William Carey_2011-2012.pdf\n",
      "William Carey_2017-2018.pdf\n",
      "William Carey_2013-2014.pdf\n",
      "William Carey_2008-2009.pdf\n",
      "William Carey_2012-2013.pdf\n",
      "William Carey_2015-2016.pdf\n",
      "William Carey_2010-2011.pdf\n",
      "Bowling Green_Fall2004.pdf\n",
      "Bowling Green_Fall2015.pdf\n",
      "Bowling Green_4-2-2020.pdf\n"
     ]
    },
    {
     "name": "stderr",
     "output_type": "stream",
     "text": [
      "PDFTextExtractionNotAllowedWarning: The PDF <_io.BufferedReader name='data/Bowling Green/Bowling Green_Fall2012.pdf'> contains a metadata field indicating that it should not allow text extraction. Ignoring this field and proceeding. [pdfpage.py:140]\n"
     ]
    },
    {
     "name": "stdout",
     "output_type": "stream",
     "text": [
      "Bowling Green_Fall2017.pdf\n",
      "Bowling Green_Fall2016.pdf\n",
      "Bowling Green_Fall2003.pdf\n",
      "Bowling Green_Fall2011.pdf\n",
      "Bowling Green_Fall2009.pdf\n",
      "Bowling Green_Fall2008.pdf\n"
     ]
    },
    {
     "name": "stderr",
     "output_type": "stream",
     "text": [
      "PDFTextExtractionNotAllowedWarning: The PDF <_io.BufferedReader name='data/Bowling Green/Bowling Green_Fall2013.pdf'> contains a metadata field indicating that it should not allow text extraction. Ignoring this field and proceeding. [pdfpage.py:140]\n",
      "PDFTextExtractionNotAllowedWarning: The PDF <_io.BufferedReader name='data/Bowling Green/Bowling Green_Spring2016.pdf'> contains a metadata field indicating that it should not allow text extraction. Ignoring this field and proceeding. [pdfpage.py:140]\n"
     ]
    },
    {
     "name": "stdout",
     "output_type": "stream",
     "text": [
      "Bowling Green_Fall2019.pdf\n"
     ]
    },
    {
     "name": "stderr",
     "output_type": "stream",
     "text": [
      "PDFTextExtractionNotAllowedWarning: The PDF <_io.BufferedReader name='data/Bowling Green/Bowling Green_Spring2013.pdf'> contains a metadata field indicating that it should not allow text extraction. Ignoring this field and proceeding. [pdfpage.py:140]\n"
     ]
    },
    {
     "name": "stdout",
     "output_type": "stream",
     "text": [
      "Bowling Green_Fall2020.pdf\n"
     ]
    },
    {
     "name": "stderr",
     "output_type": "stream",
     "text": [
      "PDFTextExtractionNotAllowedWarning: The PDF <_io.BufferedReader name='data/Bowling Green/Bowling Green_Spring2014.pdf'> contains a metadata field indicating that it should not allow text extraction. Ignoring this field and proceeding. [pdfpage.py:140]\n"
     ]
    },
    {
     "name": "stdout",
     "output_type": "stream",
     "text": [
      "Bowling Green_Fall2002.pdf\n",
      "Bowling Green_Fall2006.pdf\n",
      "Bowling Green_Fall2012.pdf\n",
      "Bowling Green_Fall2007.pdf\n",
      "Bowling Green_Fall2014.pdf\n",
      "Bowling Green_Fall2018.pdf\n",
      "Bowling Green_Fall2005.pdf\n",
      "Bowling Green_Fall2013.pdf\n",
      "Bowling Green_Fall2010.pdf\n",
      "Bowling Green_Spring2019.pdf\n",
      "Bowling Green_Spring2012.pdf\n",
      "Bowling Green_Spring2016.pdf\n",
      "Bowling Green_Spring2018.pdf\n",
      "Bowling Green_Spring2013.pdf\n",
      "Bowling Green_Spring2014.pdf\n",
      "Bowling Green_Spring2001.pdf\n",
      "Bowling Green_Spring2015.pdf\n",
      "West Virginia_2012-2013.pdf\n",
      "West Virginia_1999-2001.pdf\n",
      "West Virginia_1991-1993.pdf\n",
      "West Virginia_2010-2011.pdf\n",
      "West Virginia_2005-2007.pdf\n",
      "West Virginia_2009-2010.pdf\n",
      "West Virginia_2007-2009.pdf\n",
      "West Virginia_2013-2014.pdf\n",
      "West Virginia_2011-2012.pdf\n",
      "West Virginia_1986-1987.pdf\n",
      "West Virginia_1997-1999.pdf\n",
      "West Virginia_2014-2015.pdf\n",
      "West Virginia_1995-1997.pdf\n",
      "West Virginia_2003-2005.pdf\n",
      "West Virginia_2001-2003.pdf\n",
      "West Virginia_2017-2018.pdf\n",
      "West Virginia_1987-1988.pdf\n",
      "West Virginia_2015-2016.pdf\n",
      "West Virginia_1993-1995.pdf\n",
      "West Virginia_1989-1990.pdf\n",
      "Jackson CC MI_2020-2021.pdf\n",
      "Jackson CC MI_2018-2019.pdf\n",
      "Jackson CC MI_2005-2006.pdf\n",
      "Jackson CC MI_2012-2013.pdf\n",
      "Jackson CC MI_2007-2008.pdf\n",
      "Jackson CC MI_2016-2017.pdf\n",
      "Jackson CC MI_2017-2018.pdf\n",
      "Jackson CC MI_2008-2009.pdf\n",
      "Jackson CC MI_2011-2012.pdf\n",
      "Jackson CC MI_2015-2016.pdf\n",
      "Jackson CC MI_2009-2010.pdf\n",
      "Jackson CC MI_2014-2015.pdf\n",
      "Jackson CC MI_2003-2005.pdf\n",
      "Jackson CC MI_2013-2014.pdf\n",
      "Jackson CC MI_2019-2020.pdf\n",
      "South Alabama_2018-2019.pdf\n",
      "South Alabama_2006-2007.pdf\n",
      "South Alabama_2015-2016.pdf\n",
      "South Alabama_2009-2010.pdf\n",
      "South Alabama_2012-2013.pdf\n",
      "South Alabama_2020-2021.pdf\n",
      "South Alabama_2019-2020.pdf\n",
      "South Alabama_2008-2009.pdf\n",
      "South Alabama_2016-2017.pdf\n",
      "South Alabama_2005-2006.pdf\n",
      "South Alabama_2013-2014.pdf\n",
      "South Alabama_2017-2018.pdf\n",
      "South Alabama_2011-2012.pdf\n",
      "South Alabama_2010-2011.pdf\n",
      "South Alabama_2007-2008.pdf\n",
      "South Alabama_2014-2015.pdf\n",
      "Garden City CC_2008-2010.pdf\n",
      "Garden City CC_2002-2004.pdf\n",
      "Garden City CC_2014-2016.pdf\n",
      "Garden City CC_1998-2000.pdf\n",
      "Garden City CC_2012-2014.pdf\n",
      "Garden City CC_2010-2012.pdf\n",
      "Garden City CC_2016-2018.pdf\n",
      "Garden City CC_2006-2008.pdf\n",
      "Garden City CC_2004-2006.pdf\n",
      "Garden City CC_2000-2002.pdf\n",
      "Garden City CC_2018-2020  .pdf\n",
      "Colorado State_2012-2013.pdf\n",
      "Colorado State_2004-2006.pdf\n",
      "Colorado State_1993-1995.pdf\n",
      "Colorado State_2017-2018.pdf\n",
      "Colorado State_1997-1999.pdf\n",
      "Colorado State_2010-2011.pdf\n",
      "Colorado State_2006-2007.pdf\n",
      "Colorado State_2011-2012.pdf\n",
      "Colorado State_2015-2016.pdf\n",
      "Colorado State_2002-2003.pdf\n",
      "Colorado State_2008-2009.pdf\n",
      "Colorado State_2009-2010.pdf\n",
      "Colorado State_2016-2017.pdf\n",
      "Colorado State_2013-2014.pdf\n",
      "Colorado State_2001-2002.pdf\n",
      "Colorado State_2003-2004.pdf\n",
      "Colorado State_1999-2000.pdf\n",
      "Colorado State_1995-1997.pdf\n",
      "Colorado State_2014-2015.pdf\n",
      "Colorado State_2007-2008.pdf\n",
      "Loyola Chicago_2014-2015.pdf\n",
      "Loyola Chicago_2008-2009.pdf\n",
      "Loyola Chicago_2006-2007.pdf\n",
      "Loyola Chicago_2016-2017.pdf\n",
      "Loyola Chicago_2018-2019.pdf\n",
      "Loyola Chicago_2005-2006.pdf\n",
      "Loyola Chicago_2009-2010.pdf\n",
      "Loyola Chicago_2013-2014.pdf\n",
      "Loyola Chicago_2017-2018.pdf\n",
      "Loyola Chicago_2007-2008.pdf\n",
      "Loyola Chicago_2011-2012.pdf\n",
      "Loyola Chicago_2015-2016.pdf\n",
      "Loyola Chicago_2012-2013.pdf\n",
      "Loyola Chicago_2010-2011.pdf\n",
      "Maine - Augusta_2019-20.pdf\n",
      "Maine - Augusta_2016-17.pdf\n",
      "Maine - Augusta_2017-18.pdf\n",
      "Maine - Augusta_2014-15.pdf\n",
      "Maine - Augusta_2010-11.pdf\n",
      "Maine - Augusta_2013-14.pdf\n",
      "Maine - Augusta_2015-16.pdf\n",
      "Maine - Augusta_2012-13.pdf\n",
      "Maine - Augusta_2018-19.pdf\n",
      "Maine - Augusta_2011-12.pdf\n",
      "Northeastern Illinois_2009-2010.pdf\n",
      "Northeastern Illinois_1998-1999.pdf\n",
      "Northeastern Illinois_1999-2000.pdf\n",
      "Northeastern Illinois_2000-2001.pdf\n",
      "Northeastern Illinois_2003-2004.pdf\n",
      "Northeastern Illinois_2008-2009.pdf\n",
      "Northeastern Illinois_2013-2014.pdf\n",
      "Northeastern Illinois_1997-1998.pdf\n",
      "Northeastern Illinois_2001-2002.pdf\n",
      "Northeastern Illinois_2005-2006.pdf\n",
      "Northeastern Illinois_2011-2012.pdf\n",
      "Northeastern Illinois_2014-2015.pdf\n",
      "Northeastern Illinois_1996-1997.pdf\n",
      "Northeastern Illinois_2006-2007.pdf\n",
      "Northeastern Illinois_2012-2013.pdf\n",
      "Northeastern Illinois_2002-2003.pdf\n",
      "Northeastern Illinois_2004-2005.pdf\n",
      "Northeastern Illinois_2010-2011.pdf\n",
      "Northeastern Illinois_1994-1995.pdf\n",
      "Northeastern Illinois_1995-1996.pdf\n",
      "Northeastern Illinois_2007-2008.pdf\n",
      "Columbia Basin College_2017-2018.pdf\n",
      "Columbia Basin College_2015-2016.pdf\n",
      "Columbia Basin College_2019-2020.pdf\n",
      "Columbia Basin College_2004-2006.pdf\n",
      "Columbia Basin College_2001-2003.pdf\n",
      "Columbia Basin College_2011-2012.pdf\n",
      "Columbia Basin College_2013-2014.pdf\n",
      "Columbia Basin College_2012-2013.pdf\n",
      "Columbia Basin College_2008-2009.pdf\n",
      "Columbia Basin College_2014-2015.pdf\n",
      "Columbia Basin College_2003-2004.pdf\n",
      "Columbia Basin College_2016-2017.pdf\n",
      "Columbia Basin College_2009-2011.pdf\n",
      "Columbia Basin College_2006-2008.pdf\n",
      "Columbia Basin College_2018-2019.pdf\n",
      "\n"
     ]
    }
   ],
   "source": [
    "files = [directory + '/' + file\n",
    "         for directory, _, files in list(os.walk('data'))\n",
    "         for file in files\n",
    "         if '.pdf' in file\n",
    "         and (directory.split('/')[1] not in limit_folders\n",
    "              if len(limit_folders) != 0\n",
    "              else True)]\n",
    "\n",
    "fn = lambda path: get_all_data(path)\n",
    "\n",
    "# # multiprocessing + tqdm\n",
    "iterator = p_imap(fn, files)\n",
    "\n",
    "for result in iterator:\n",
    "    try:\n",
    "        cur.execute(sql_3, result)\n",
    "        print(result['filename'])\n",
    "    except Exception as e:\n",
    "        print(f, e)\n",
    "conn.commit()\n"
   ]
  },
  {
   "cell_type": "markdown",
   "metadata": {},
   "source": [
    "### Sandbox"
   ]
  },
  {
   "cell_type": "code",
   "execution_count": 3,
   "metadata": {
    "ExecuteTime": {
     "end_time": "2020-12-20T22:52:14.694154Z",
     "start_time": "2020-12-20T22:49:29.922607Z"
    }
   },
   "outputs": [
    {
     "name": "stderr",
     "output_type": "stream",
     "text": [
      "PdfReadWarning: Xref table not zero-indexed. ID numbers for objects will be corrected. [pdf.py:1736]\n"
     ]
    },
    {
     "ename": "NameError",
     "evalue": "name 're' is not defined",
     "output_type": "error",
     "traceback": [
      "\u001b[0;31m---------------------------------------------------------------------------\u001b[0m",
      "\u001b[0;31mNameError\u001b[0m                                 Traceback (most recent call last)",
      "\u001b[0;32m<ipython-input-3-08ba22cf7f39>\u001b[0m in \u001b[0;36m<module>\u001b[0;34m\u001b[0m\n\u001b[1;32m     14\u001b[0m \u001b[0;34m\u001b[0m\u001b[0m\n\u001b[1;32m     15\u001b[0m \u001b[0mt\u001b[0m \u001b[0;34m=\u001b[0m \u001b[0;34m''\u001b[0m\u001b[0;34m.\u001b[0m\u001b[0mjoin\u001b[0m\u001b[0;34m(\u001b[0m\u001b[0mlist\u001b[0m\u001b[0;34m(\u001b[0m\u001b[0mchain\u001b[0m\u001b[0;34m.\u001b[0m\u001b[0mfrom_iterable\u001b[0m\u001b[0;34m(\u001b[0m\u001b[0;34m[\u001b[0m\u001b[0ma\u001b[0m\u001b[0;34m[\u001b[0m\u001b[0;34m'tboxes'\u001b[0m\u001b[0;34m]\u001b[0m \u001b[0;32mfor\u001b[0m \u001b[0ma\u001b[0m \u001b[0;32min\u001b[0m \u001b[0mx\u001b[0m\u001b[0;34m[\u001b[0m\u001b[0;34m'pdfminer_detailed'\u001b[0m\u001b[0;34m]\u001b[0m\u001b[0;34m]\u001b[0m\u001b[0;34m)\u001b[0m\u001b[0;34m)\u001b[0m\u001b[0;34m)\u001b[0m\u001b[0;34m\u001b[0m\u001b[0;34m\u001b[0m\u001b[0m\n\u001b[0;32m---> 16\u001b[0;31m \u001b[0mre\u001b[0m\u001b[0;34m.\u001b[0m\u001b[0mfindall\u001b[0m\u001b[0;34m(\u001b[0m\u001b[0;34mr\"\\n[A-Z\\W\\s]*\\n\"\u001b[0m\u001b[0;34m,\u001b[0m \u001b[0mt\u001b[0m\u001b[0;34m)\u001b[0m\u001b[0;34m\u001b[0m\u001b[0;34m\u001b[0m\u001b[0m\n\u001b[0m",
      "\u001b[0;31mNameError\u001b[0m: name 're' is not defined"
     ]
    }
   ],
   "source": [
    "from itertools import chain\n",
    "batch_1 = ['Arkansas', 'Bowdoin', 'Ohio State']\n",
    "batch_2 = ['Colorado - Boulder', 'Minnesota Twin Cities', 'UCLA', 'U Conn']\n",
    "limit_folders = batch_1 + batch_2\n",
    "files = [directory + '/' + file\n",
    "         for directory, _, files in list(os.walk('data'))\n",
    "         for file in files\n",
    "         if '.pdf' in file\n",
    "         and (directory.split('/')[1] not in limit_folders\n",
    "              if len(limit_folders) != 0\n",
    "              else True)]\n",
    "\n",
    "x = get_all_data(files[0])\n",
    "\n",
    "t = ''.join(list(chain.from_iterable([a['tboxes'] for a in x['pdfminer_detailed']])))\n",
    "re.findall(r\"\\n[A-Z\\W\\s]*\\n\", t)"
   ]
  },
  {
   "cell_type": "code",
   "execution_count": 4,
   "metadata": {
    "ExecuteTime": {
     "end_time": "2020-12-20T22:52:18.104129Z",
     "start_time": "2020-12-20T22:52:18.102309Z"
    }
   },
   "outputs": [],
   "source": [
    "import re"
   ]
  },
  {
   "cell_type": "code",
   "execution_count": 8,
   "metadata": {
    "ExecuteTime": {
     "end_time": "2020-12-20T22:44:15.278577Z",
     "start_time": "2020-12-20T22:44:15.243548Z"
    }
   },
   "outputs": [
    {
     "data": {
      "text/plain": [
       "'data/Iowa/Iowa_2013-14.pdf'"
      ]
     },
     "execution_count": 8,
     "metadata": {},
     "output_type": "execute_result"
    }
   ],
   "source": [
    "t = ''.join(list(chain.from_iterable([a['tboxes'] for a in x['pdfminer_detailed']])))\n",
    "re.findall(r\"\\n[A-Z\\W\\s]*\\n\", t)\n",
    "files[20]"
   ]
  },
  {
   "cell_type": "code",
   "execution_count": 5,
   "metadata": {
    "ExecuteTime": {
     "end_time": "2020-12-20T16:33:10.976824Z",
     "start_time": "2020-12-20T16:33:10.876289Z"
    }
   },
   "outputs": [
    {
     "data": {
      "text/plain": [
       "[('UCLA_2017–18.pdf',),\n",
       " ('UCLA_2009–10.pdf',),\n",
       " ('UCLA_1997–99.pdf',),\n",
       " ('UCLA_2007–08.pdf',),\n",
       " ('UCLA_1995–97.pdf',),\n",
       " ('UCLA_2013–14.pdf',),\n",
       " ('UCLA_2001–03.pdf',),\n",
       " ('UCLA_2008–09.pdf',),\n",
       " ('UCLA_2010–11.pdf',),\n",
       " ('UCLA_2016–17.pdf',),\n",
       " ('UCLA_2011–12.pdf',),\n",
       " ('UCLA_2019–20.pdf',),\n",
       " ('UCLA_2018–19.pdf',),\n",
       " ('UCLA_1992–93.pdf',),\n",
       " ('UCLA_2003–05.pdf',),\n",
       " ('UCLA_2012–13.pdf',),\n",
       " ('UCLA_1994–95.pdf',),\n",
       " ('UCLA_2005–07.pdf',),\n",
       " ('UCLA_2014–15.pdf',),\n",
       " ('UCLA_1991–92.pdf',),\n",
       " ('UCLA_2015–16.pdf',),\n",
       " ('UCLA_1993–94.pdf',),\n",
       " ('UCLA_1999–2001.pdf',),\n",
       " ('U Conn_2008-2009.pdf',),\n",
       " ('U Conn_2010-2011.pdf',),\n",
       " ('U Conn_2007-2008.pdf',),\n",
       " ('U Conn_2015-2016.pdf',),\n",
       " ('U Conn_2016-2017.pdf',),\n",
       " ('U Conn_2014-2015.pdf',),\n",
       " ('U Conn_2006-2007.pdf',),\n",
       " ('U Conn_2017-2018.pdf',),\n",
       " ('U Conn_1998-1999.pdf',),\n",
       " ('U Conn_2005-2006.pdf',),\n",
       " ('U Conn_2000-2001.pdf',),\n",
       " ('U Conn_2018-2019.pdf',),\n",
       " ('U Conn_2012-2013.pdf',),\n",
       " ('U Conn_2002-2003.pdf',),\n",
       " ('U Conn_2003-2004.pdf',),\n",
       " ('U Conn_1999-2000.pdf',),\n",
       " ('U Conn_2011-2012.pdf',),\n",
       " ('U Conn_2009-2010.pdf',),\n",
       " ('U Conn_2001-2002.pdf',),\n",
       " ('U Conn_2004-2005.pdf',),\n",
       " ('U Conn_2019-2020.pdf',),\n",
       " ('U Conn_2013-2014.pdf',),\n",
       " ('Bowdoin_2014-2015.pdf',),\n",
       " ('Bowdoin_2016-2017.pdf',),\n",
       " ('Bowdoin_2015-2016.pdf',),\n",
       " ('Arkansas_2015-2016.pdf',),\n",
       " ('Arkansas_2020-2021.pdf',),\n",
       " ('Arkansas_2017-2018.pdf',),\n",
       " ('Bowdoin_2019-2020.pdf',),\n",
       " ('Bowdoin_2012-2013.pdf',),\n",
       " ('Bowdoin_2018-2019.pdf',),\n",
       " ('Bowdoin_2013-2014.pdf',),\n",
       " ('Bowdoin_2010-2011.pdf',),\n",
       " ('Bowdoin_2011-2012.pdf',),\n",
       " ('Bowdoin_2009-2010.pdf',),\n",
       " ('Bowdoin_2017-2018.pdf',),\n",
       " ('Bowdoin_2019-2020.pdf',),\n",
       " ('Bowdoin_2016-2017.pdf',),\n",
       " ('Bowdoin_2010-2011.pdf',),\n",
       " ('Bowdoin_2013-2014.pdf',),\n",
       " ('Bowdoin_2009-2010.pdf',),\n",
       " ('Bowdoin_2015-2016.pdf',),\n",
       " ('Bowdoin_2017-2018.pdf',),\n",
       " ('Bowdoin_2018-2019.pdf',),\n",
       " ('Bowdoin_2012-2013.pdf',),\n",
       " ('Bowdoin_2011-2012.pdf',),\n",
       " ('Bowdoin_2014-2015.pdf',),\n",
       " ('Arkansas_2017-2018.pdf',),\n",
       " ('Arkansas_2002-2003.pdf',),\n",
       " ('Arkansas_2012-2013.pdf',),\n",
       " ('Arkansas_2010-2011.pdf',),\n",
       " ('Arkansas_2011-2012.pdf',),\n",
       " ('Arkansas_2015-2016.pdf',),\n",
       " ('Arkansas_2007-2008.pdf',),\n",
       " ('Arkansas_2016-2017.pdf',),\n",
       " ('Arkansas_2013-2014.pdf',),\n",
       " ('Arkansas_2003-2004.pdf',),\n",
       " ('Arkansas_2018-2019.pdf',),\n",
       " ('Arkansas_2014-2015.pdf',),\n",
       " ('Arkansas_2009-2010.pdf',),\n",
       " ('Arkansas_2006-2007.pdf',),\n",
       " ('Arkansas_2019-2020.pdf',),\n",
       " ('Arkansas_2008-2009.pdf',),\n",
       " ('Arkansas_2001-2002.pdf',),\n",
       " ('Arkansas_2004-2005.pdf',),\n",
       " ('Arkansas_2014-2015.pdf',),\n",
       " ('Arkansas_2016-2017.pdf',),\n",
       " ('Arkansas_2018-2019.pdf',),\n",
       " ('Arkansas_2019-2020.pdf',),\n",
       " ('Arkansas_2020-2021.pdf',),\n",
       " ('Ohio State_2016-2017.pdf',),\n",
       " ('Ohio State_2014-2015.pdf',),\n",
       " ('Ohio State_2009-2010.pdf',),\n",
       " ('Ohio State_2020-2021.pdf',),\n",
       " ('Ohio State_2006-2007.pdf',),\n",
       " ('Ohio State_2019-2020.pdf',),\n",
       " ('Ohio State_2017-2018.pdf',),\n",
       " ('Ohio State_2013-2014.pdf',),\n",
       " ('Ohio State_2008-2009.pdf',),\n",
       " ('Ohio State_2018-2019.pdf',),\n",
       " ('Ohio State_2005-2006.pdf',),\n",
       " ('Ohio State_2012-2013.pdf',),\n",
       " ('Ohio State_2010-2011.pdf',),\n",
       " ('Ohio State_2015-2016.pdf',),\n",
       " ('Ohio State_2007-2008.pdf',),\n",
       " ('Colorado - Boulder_1995-1996.pdf',),\n",
       " ('Colorado - Boulder_2009-2010.pdf',),\n",
       " ('Colorado - Boulder_2002-2003.pdf',),\n",
       " ('Colorado - Boulder_1989-1990.pdf',),\n",
       " ('Colorado - Boulder_2000-2001.pdf',),\n",
       " ('Colorado - Boulder_2004-2005.pdf',),\n",
       " ('Colorado - Boulder_2003-2004.pdf',),\n",
       " ('Colorado - Boulder_1994-1995.pdf',),\n",
       " ('Colorado - Boulder_2005-2006.pdf',),\n",
       " ('Colorado - Boulder_2017-2018.pdf',),\n",
       " ('Colorado - Boulder_1993-1994.pdf',),\n",
       " ('Colorado - Boulder_2016-2017.pdf',),\n",
       " ('Colorado - Boulder_1991-1992.pdf',),\n",
       " ('Colorado - Boulder_2001-2002.pdf',),\n",
       " ('Colorado - Boulder_2007-2008.pdf',),\n",
       " ('Colorado - Boulder_2011-2012.pdf',),\n",
       " ('Colorado - Boulder_2012-2013.pdf',),\n",
       " ('Colorado - Boulder_1992-1993.pdf',),\n",
       " ('Colorado - Boulder_2018-2019.pdf',),\n",
       " ('Colorado - Boulder_2010-2011.pdf',),\n",
       " ('Colorado - Boulder_2019-2020.pdf',),\n",
       " ('Colorado - Boulder_1997-1998.pdf',),\n",
       " ('Colorado - Boulder_1999-2000.pdf',),\n",
       " ('Colorado - Boulder_1996-1997.pdf',),\n",
       " ('Colorado - Boulder_2008-2009.pdf',),\n",
       " ('Colorado - Boulder_1998-1999.pdf',),\n",
       " ('Colorado - Boulder_1990-1991.pdf',),\n",
       " ('Colorado - Boulder_2006-2007.pdf',),\n",
       " ('ucb_1996-97_catalog.pdf',),\n",
       " ('ucb_1991-92_catalog.pdf',),\n",
       " ('ucb_1993-94_catalog.pdf',),\n",
       " ('ucb_1994-95_catalog.pdf',),\n",
       " ('2018-2020 University of Minnesota Twin Cities Undergraduate Catalog.pdf',),\n",
       " ('2012-2014 University of Minnesota Twin Cities Undergraduate Catalog.pdf',),\n",
       " ('2004-2006 University of Minnesota Twin Cities Undergraduate Catalog.pdf',),\n",
       " ('ucb_1992-93_catalog.pdf',),\n",
       " ('ucb_1997-98_catalog.pdf',),\n",
       " ('ucb_1998-99_catalog.pdf',),\n",
       " ('ucb_1990-91_catalog.pdf',),\n",
       " ('ucb_1999-2000_catalog.pdf',),\n",
       " ('ucb_2013-14_catalog.pdf',),\n",
       " ('ucb_2015-16_catalog.pdf',),\n",
       " ('ucb_2014-15_catalog.pdf',),\n",
       " ('2014-2015+Catalog+pt+2+(+courses+&+undergrad+programs).pdf',),\n",
       " ('2008-2010 University of Minnesot Twin Cities Undergraduate Catalog.pdf',),\n",
       " ('1999-2000 University of Minnesota Twin Cities Undergraduate Catalog.pdf',),\n",
       " ('2014-2016 University of Minnesota Twin Cities Undergraduate Catalog.pdf',),\n",
       " ('2006-2008 University of Minnesota Twin Cities Undergraduate Catalog.pdf',),\n",
       " ('2010-2012 University of Minnesota Twin Cities Undergraduate Catalog.pdf',),\n",
       " ('2002-2004 University of Minnesota Twin Cities Undergraduate Catalog.pdf',),\n",
       " ('2016-2018 University of Minnesota Twin Cities Undergraduate Catalog.pdf',),\n",
       " ('2000-2002 University of Minnesota Twin Cities Undergraduate Catalog.pdf',),\n",
       " ('Iowa_2006-20.pdf',),\n",
       " ('Iowa_2018-19.pdf',),\n",
       " ('Iowa_1978-80.pdf',),\n",
       " ('Iowa_2007-08.pdf',),\n",
       " ('Iowa_1998-20.pdf',),\n",
       " ('Iowa_1986-88.pdf',),\n",
       " ('Iowa_1996-98.pdf',),\n",
       " ('Iowa_1990-92.pdf',),\n",
       " ('Iowa_1980-82.pdf',),\n",
       " ('Iowa_,1976-7.pdf',),\n",
       " ('Iowa_2002-20.pdf',),\n",
       " ('Iowa_2000-20.pdf',),\n",
       " ('Iowa_2019-20.pdf',),\n",
       " ('Oregon_2004–2005.pdf',),\n",
       " ('Oregon_1995–1996.pdf',),\n",
       " ('Iowa_1984-86.pdf',),\n",
       " ('Iowa_2016-17.pdf',),\n",
       " ('Iowa_2015-16.pdf',),\n",
       " ('Iowa_1994-96.pdf',),\n",
       " ('Iowa_2014-15.pdf',),\n",
       " ('Iowa_2010-11.pdf',),\n",
       " ('Iowa_2011-12.pdf',),\n",
       " ('Iowa_2013-14.pdf',),\n",
       " ('Iowa_2009-10.pdf',),\n",
       " ('Iowa_2005-20.pdf',),\n",
       " ('Iowa_1982-84.pdf',),\n",
       " ('Iowa_2012-13.pdf',),\n",
       " ('Iowa_,1972-7.pdf',),\n",
       " ('Iowa_1992-94.pdf',),\n",
       " ('Iowa_2004-20.pdf',),\n",
       " ('Iowa_2008-09.pdf',),\n",
       " ('Iowa_1970-19.pdf',),\n",
       " ('Oregon_2017–2018.pdf',),\n",
       " ('Oregon_2003–2004.pdf',),\n",
       " ('Oregon_2013–2014.pdf',),\n",
       " ('Oregon_2012–2013.pdf',),\n",
       " ('Iowa_1988-90.pdf',),\n",
       " ('Iowa_,1974-7.pdf',),\n",
       " ('Iowa_2017-18.pdf',),\n",
       " ('Duke_2001.pdf',),\n",
       " ('Duke_2010.pdf',),\n",
       " ('Duke_2007.pdf',),\n",
       " ('Duke_2015.pdf',),\n",
       " ('Duke_2011.pdf',),\n",
       " ('Duke_2002.pdf',),\n",
       " ('Duke_2014.pdf',),\n",
       " ('Duke_2020.pdf',),\n",
       " ('Duke_2013.pdf',),\n",
       " ('Duke_2000.pdf',),\n",
       " ('Duke_2012.pdf',),\n",
       " ('Duke_2008.pdf',),\n",
       " ('Duke_1999.pdf',),\n",
       " ('Duke_2018.pdf',),\n",
       " ('Duke_2003.pdf',),\n",
       " ('Duke_2009.pdf',),\n",
       " ('Duke_2006.pdf',),\n",
       " ('Duke_2004.pdf',),\n",
       " ('Duke_2019.pdf',),\n",
       " ('Duke_2016.pdf',),\n",
       " ('Duke_2005.pdf',),\n",
       " ('Duke_2017.pdf',),\n",
       " ('Colby_2016-2017.pdf',),\n",
       " ('Colby_2017-2018.pdf',),\n",
       " ('Colby_2012-2013.pdf',),\n",
       " ('Colby_2020-2021.pdf',),\n",
       " ('Colby_2018-2019.pdf',),\n",
       " ('Colby_2013-2014.pdf',),\n",
       " ('Colby_2011-2012.pdf',),\n",
       " ('Colby_2019-2020.pdf',),\n",
       " ('Colby_2014-2015.pdf',),\n",
       " ('Colby_2015-2016.pdf',),\n",
       " ('Oregon_2006–2007.pdf',),\n",
       " ('Oregon_2015–2016.pdf',),\n",
       " ('Oregon_2020–2021.pdf',),\n",
       " ('Oregon_2010–2011.pdf',),\n",
       " ('Oregon_2008–2009.pdf',),\n",
       " ('Oregon_2018–2019.pdf',),\n",
       " ('Oregon_1997–1998.pdf',),\n",
       " ('Oregon_1998–1999.pdf',),\n",
       " ('Oregon_1996–1997.pdf',),\n",
       " ('Oregon_2014–2015.pdf',),\n",
       " ('Oregon_2005–2006.pdf',),\n",
       " ('Oregon_2000–2001.pdf',),\n",
       " ('Oregon_2009–2010.pdf',),\n",
       " ('Oregon_2011–2012.pdf',),\n",
       " ('Oregon_2007–2008.pdf',),\n",
       " ('Oregon_1994–1995.pdf',),\n",
       " ('Oregon_2002–2003.pdf',),\n",
       " ('Oregon_2001–2002.pdf',),\n",
       " ('Oregon_2016–2017.pdf',),\n",
       " ('Oregon_1999–2000.pdf',),\n",
       " ('Alabama_2019-2020.pdf',),\n",
       " ('Alabama_2013-2014.pdf',),\n",
       " ('Alabama_2017-2018.pdf',),\n",
       " ('Alabama_2015-2016.pdf',),\n",
       " ('Alabama_2016-2017.pdf',),\n",
       " ('Alabama_2014-2015.pdf',),\n",
       " ('Alabama_2012-2013.pdf',),\n",
       " ('Alabama_2010-2012.pdf',),\n",
       " ('Clemson_2011-2012.pdf',),\n",
       " ('Clemson_2004-2005.pdf',),\n",
       " ('Clemson_1993-1994.pdf',),\n",
       " ('Clemson_1991-1992.pdf',),\n",
       " ('Alabama_2018-2019.pdf',),\n",
       " ('Gonzaga_2014-2015.pdf',),\n",
       " ('Gonzaga_2007-2009.pdf',),\n",
       " ('Gonzaga_2013-2014.pdf',),\n",
       " ('Gonzaga_2016-2017.pdf',),\n",
       " ('Gonzaga_2005-2007.pdf',),\n",
       " ('Gonzaga_2003-2005.pdf',),\n",
       " ('Gonzaga_2018-2019.pdf',),\n",
       " ('Gonzaga_2015-2016.pdf',),\n",
       " ('Gonzaga_2019-2020.pdf',),\n",
       " ('Gonzaga_2017-2018.pdf',),\n",
       " ('Gonzaga_2009-2011.pdf',),\n",
       " ('Gonzaga_2012-2013.pdf',),\n",
       " ('Gonzaga_2020-2021.pdf',),\n",
       " ('Gonzaga_2011-2012.pdf',),\n",
       " ('Clemson_2009-2010.pdf',),\n",
       " ('Clemson_1999-2000.pdf',),\n",
       " ('Clemson_2013-2014.pdf',),\n",
       " ('Clemson_2007-2008.pdf',),\n",
       " ('Clemson_1998-1999.pdf',),\n",
       " ('Clemson_2010-2011.pdf',),\n",
       " ('Clemson_1990-1991.pdf',),\n",
       " ('Clemson_1995-1996.pdf',),\n",
       " ('Clemson_2016-2017.pdf',),\n",
       " ('Clemson_2014-2015.pdf',),\n",
       " ('Clemson_2008-2009.pdf',),\n",
       " ('Clemson_1988-1989.pdf',),\n",
       " ('Clemson_2012-2013.pdf',),\n",
       " ('Clemson_1996-1997.pdf',),\n",
       " ('Clemson_1997-1998.pdf',),\n",
       " ('Clemson_2005-2006.pdf',),\n",
       " ('Clemson_2000-2001.pdf',),\n",
       " ('Clemson_1994-1995.pdf',),\n",
       " ('Clemson_1989-1990.pdf',),\n",
       " ('Clemson_1992-1993.pdf',),\n",
       " ('Clemson_2001-2002.pdf',),\n",
       " ('Clemson_2002-2003.pdf',),\n",
       " ('Clemson_2003-2004.pdf',),\n",
       " ('Clemson_2006-2007.pdf',),\n",
       " ('Clemson_2015-2016.pdf',),\n",
       " ('La Roche_2012-2013.pdf',),\n",
       " ('La Roche_2019-2020.pdf',),\n",
       " ('La Roche_2015-2016.pdf',),\n",
       " ('La Roche_2010-2011.pdf',),\n",
       " ('La Roche_2008-2009.pdf',),\n",
       " ('La Roche_2016-2017.pdf',),\n",
       " ('La Roche_2011-2012.pdf',),\n",
       " ('La Roche_2017-2018.pdf',),\n",
       " ('La Roche_2013-2014.pdf',),\n",
       " ('La Roche_2014-2015.pdf',),\n",
       " ('La Roche_2018-2019.pdf',),\n",
       " ('La Roche_2009-2010.pdf',),\n",
       " ('La Roche_2020-2021.pdf',),\n",
       " ('Marshall_2017-2018.pdf',),\n",
       " ('Marshall_2009-2010.pdf',),\n",
       " ('Marshall_2014-2015.pdf',),\n",
       " ('Marshall_2018-2019.pdf',),\n",
       " ('Marshall_2010-2011.pdf',),\n",
       " ('Marshall_2005-2007.pdf',),\n",
       " ('Marshall_2013-2014.pdf',),\n",
       " ('Marshall_2008-2009.pdf',),\n",
       " ('Marshall_2007-2008.pdf',),\n",
       " ('Marshall_2012-2013.pdf',),\n",
       " ('Marshall_2011-2012.pdf',),\n",
       " ('Marshall_2016-2017.pdf',),\n",
       " ('Marshall_2019-2020.pdf',),\n",
       " ('Marshall_2015-2016.pdf',),\n",
       " ('Berkeley_2003-2005.pdf',),\n",
       " ('Berkeley_1995-1997.pdf',),\n",
       " ('Berkeley_1987-1988.pdf',),\n",
       " ('Berkeley_1989-1990.pdf',),\n",
       " ('Berkeley_1994-1995.pdf',),\n",
       " ('Berkeley_1999-2001.pdf',),\n",
       " ('Berkeley_1988-1989.pdf',),\n",
       " ('Berkeley_1992-1993.pdf',),\n",
       " ('Berkeley_2001-2003.pdf',),\n",
       " ('Berkeley_1991-1992.pdf',),\n",
       " ('Berkeley_2005-2007.pdf',),\n",
       " ('Berkeley_1990-1991.pdf',),\n",
       " ('Berkeley_1997-1999.pdf',),\n",
       " ('Berkeley_2009-2011.pdf',),\n",
       " ('Berkeley_2007-2009.pdf',),\n",
       " ('Berkeley_2011-2013.pdf',),\n",
       " ('Berkeley_1993-1994.pdf',),\n",
       " ('Creighton_2009-10.pdf',),\n",
       " ('Creighton_2019-20.pdf',),\n",
       " ('Creighton_1998-00.pdf',),\n",
       " ('Creighton_2007-08.pdf',),\n",
       " ('Creighton_2005-06.pdf',),\n",
       " ('Creighton_2011-12.pdf',),\n",
       " ('Creighton_2013-14.pdf',),\n",
       " ('Creighton_1999-00.pdf',),\n",
       " ('Creighton_2017-18.pdf',),\n",
       " ('Creighton_2018-19.pdf',),\n",
       " ('Creighton_2002-03.pdf',),\n",
       " ('Creighton_2004-05.pdf',),\n",
       " ('Creighton_2003-04.pdf',),\n",
       " ('Creighton_2008-09.pdf',),\n",
       " ('Creighton_1996-98.pdf',),\n",
       " ('Creighton_2010-11.pdf',),\n",
       " ('Creighton_2014-15.pdf',),\n",
       " ('Creighton_2016-17.pdf',),\n",
       " ('Creighton_2015-16.pdf',),\n",
       " ('Creighton_2006-07.pdf',),\n",
       " ('Creighton_2012-13.pdf',),\n",
       " ('Creighton_2001-02.pdf',),\n",
       " ('Bryn Mawr_2019-20.pdf',),\n",
       " ('Bryn Mawr_2020-21.pdf',),\n",
       " ('Bryn Mawr_2017-18.pdf',),\n",
       " ('Bryn Mawr_2015-16.pdf',),\n",
       " ('Bryn Mawr_2012-13.pdf',),\n",
       " ('Bryn Mawr_2011-12.pdf',),\n",
       " ('Bryn Mawr_2018-19.pdf',),\n",
       " ('Bryn Mawr_2016-17.pdf',),\n",
       " ('Bryn Mawr_2014-15.pdf',),\n",
       " ('Bryn Mawr_2013-14.pdf',),\n",
       " ('Bryn Mawr_2010-11.pdf',),\n",
       " ('Swarthmore_2014-2015.pdf',),\n",
       " ('Swarthmore_2015-2016.pdf',),\n",
       " ('Swarthmore_2013-2014.pdf',),\n",
       " ('Swarthmore_2017-2018.pdf',),\n",
       " ('Swarthmore_2012-2013.pdf',),\n",
       " ('Swarthmore_2008-2009.pdf',),\n",
       " ('Swarthmore_2010-2011.pdf',),\n",
       " ('Swarthmore_2011-2012.pdf',),\n",
       " ('Swarthmore_2016-2017.pdf',),\n",
       " ('Swarthmore_2009-2010.pdf',),\n",
       " ('Swarthmore_2018-2019.pdf',),\n",
       " ('Swarthmore_2019-2020.pdf',),\n",
       " ('CSU Fresno_2007-2008.pdf',),\n",
       " ('CSU Fresno_2010-2011.pdf',),\n",
       " ('CSU Fresno_1998-1999.pdf',),\n",
       " ('CSU Fresno_2011-2012.pdf',),\n",
       " ('CSU Fresno_1999-2000.pdf',),\n",
       " ('CSU Fresno_2008-2009.pdf',),\n",
       " ('CSU Fresno_2004-2005.pdf',),\n",
       " ('CSU Fresno_2012-2013.pdf',)]"
      ]
     },
     "execution_count": 5,
     "metadata": {},
     "output_type": "execute_result"
    }
   ],
   "source": [
    "cur.execute('select filename from textract')\n",
    "cur.fetch()"
   ]
  },
  {
   "cell_type": "code",
   "execution_count": 5,
   "metadata": {
    "ExecuteTime": {
     "end_time": "2020-12-20T22:52:22.573555Z",
     "start_time": "2020-12-20T22:52:22.558172Z"
    }
   },
   "outputs": [
    {
     "data": {
      "text/plain": [
       "'University of Iowa General Catalogs \\nOffice of the Registrar \\n8-1-2006 \\nUniversity of Iowa \\nThe University of Iowa General Catalog 2006-2007 \\nThe University of Iowa General Catalog 2006-2007 \\nFollow this and additional works at: https://ir.uiowa.edu/registrar_catalogs \\n Part of the Curriculum and Instruction Commons, and the Higher Education Administration Commons \\nCopyright © 2006 The University of Iowa \\nHosted by Iowa Research Online. For more information please contact: lib-ir@uiowa.edu. \\nGeneral \\nCataloG\\n2006-07\\n2006-07\\nUniversity Calendar 2006-2007\\n2006\\nAugust 21\\nSeptember 4\\nNovember 20-26\\nNovember 23-24\\nDecember 8\\nDecember 11-15\\nDecember 15-16\\nDecember 25-26\\nDecember 27-January 12 Winter session\\nJanuary 1\\nFall Semester/Winter Session\\nClasses begin\\nUniversity holiday\\nThanksgiving recess\\nUniversity holidays\\nClasses end\\nExamination week\\nCommencement ceremonies\\nUniversity holidays\\nUniversity holiday\\n2007\\nJanuary 15\\nJanuary 16\\nFebruary 25\\nMarch 12-18\\nMay 4\\nMay 7-11\\nMay 10-13, June 8\\n2'"
      ]
     },
     "execution_count": 5,
     "metadata": {},
     "output_type": "execute_result"
    }
   ],
   "source": [
    "''.join(list(chain.from_iterable([a['tboxes'] for a in x['pdfminer_detailed']])))[:1000]"
   ]
  },
  {
   "cell_type": "code",
   "execution_count": 10,
   "metadata": {
    "ExecuteTime": {
     "end_time": "2020-12-20T22:45:08.020594Z",
     "start_time": "2020-12-20T22:45:07.932027Z"
    }
   },
   "outputs": [
    {
     "ename": "TypeError",
     "evalue": "sequence item 37: expected str instance, float found",
     "output_type": "error",
     "traceback": [
      "\u001b[0;31m---------------------------------------------------------------------------\u001b[0m",
      "\u001b[0;31mTypeError\u001b[0m                                 Traceback (most recent call last)",
      "\u001b[0;32m<ipython-input-10-54c3a9e9d5b8>\u001b[0m in \u001b[0;36m<module>\u001b[0;34m\u001b[0m\n\u001b[0;32m----> 1\u001b[0;31m \u001b[0;34m''\u001b[0m\u001b[0;34m.\u001b[0m\u001b[0mjoin\u001b[0m\u001b[0;34m(\u001b[0m\u001b[0mlist\u001b[0m\u001b[0;34m(\u001b[0m\u001b[0mchain\u001b[0m\u001b[0;34m.\u001b[0m\u001b[0mfrom_iterable\u001b[0m\u001b[0;34m(\u001b[0m\u001b[0;34m[\u001b[0m\u001b[0ma\u001b[0m\u001b[0;34m[\u001b[0m\u001b[0;34m'characters'\u001b[0m\u001b[0;34m]\u001b[0m\u001b[0;34m[\u001b[0m\u001b[0;34m'chars'\u001b[0m\u001b[0;34m]\u001b[0m \u001b[0;32mfor\u001b[0m \u001b[0ma\u001b[0m \u001b[0;32min\u001b[0m \u001b[0mx\u001b[0m\u001b[0;34m[\u001b[0m\u001b[0;34m'pdfminer_detailed'\u001b[0m\u001b[0;34m]\u001b[0m\u001b[0;34m]\u001b[0m\u001b[0;34m)\u001b[0m\u001b[0;34m)\u001b[0m\u001b[0;34m)\u001b[0m\u001b[0;34m[\u001b[0m\u001b[0;34m:\u001b[0m\u001b[0;36m1000\u001b[0m\u001b[0;34m]\u001b[0m\u001b[0;34m\u001b[0m\u001b[0;34m\u001b[0m\u001b[0m\n\u001b[0m",
      "\u001b[0;31mTypeError\u001b[0m: sequence item 37: expected str instance, float found"
     ]
    }
   ],
   "source": [
    "''.join(list(chain.from_iterable([a['characters']['chars'] for a in x['pdfminer_detailed']])))[:1000]"
   ]
  },
  {
   "cell_type": "code",
   "execution_count": 7,
   "metadata": {
    "ExecuteTime": {
     "end_time": "2020-12-20T22:52:38.673823Z",
     "start_time": "2020-12-20T22:52:38.670339Z"
    },
    "scrolled": true
   },
   "outputs": [
    {
     "data": {
      "text/plain": [
       "'University of Iowa General Catalogs \\nOffice of the Registrar \\n8-1-2006 \\nUniversity of Iowa \\nThe University of Iowa General Catalog 2006-2007 The University of Iowa General Catalog 2006-2007 \\nFollow this and additional works at: https://ir.uiowa.edu/registrar_catalogs \\n Part of the Curriculum and Instruction Commons, and the Higher Education Administration Commons \\nCopyright © 2006 The University of Iowa Hosted by Iowa Research Online. For more information please contact: lib-ir@uiowa.edu. \\n'"
      ]
     },
     "execution_count": 7,
     "metadata": {},
     "output_type": "execute_result"
    }
   ],
   "source": [
    "''.join([a['characters']['chars'] for a in x['pdfminer_detailed']][0][:1000])"
   ]
  },
  {
   "cell_type": "code",
   "execution_count": 10,
   "metadata": {
    "ExecuteTime": {
     "end_time": "2020-12-20T22:53:48.555811Z",
     "start_time": "2020-12-20T22:53:48.365446Z"
    }
   },
   "outputs": [
    {
     "data": {
      "text/plain": [
       "array([11., 11., 11., 11., 11., 11., 11., 11., 11., 11., 11., 11., 11.,\n",
       "       11., 11., 11., 11., 11., 11., 11., 11., 11., 11., 11., 11., 11.,\n",
       "       11., 11., 11., 11., 11., 11., 11., 11., 11., 11.,  0., 11., 11.,\n",
       "       11., 11., 11., 11., 11., 11., 11., 11., 11., 11., 11., 11., 11.,\n",
       "       11., 11., 11., 11., 11., 11., 11.,  0., 11., 11., 11., 11., 11.,\n",
       "       11., 11., 11., 11.,  0., 11., 11., 11., 11., 11., 11., 11., 11.,\n",
       "       11., 11., 11., 11., 11., 11., 11., 11., 11., 11., 11.,  0., 16.,\n",
       "       16., 16., 16., 16., 16., 16., 16., 16., 16., 16., 16., 16., 16.,\n",
       "       16., 16., 16., 16., 16., 16., 16., 16., 16., 16., 16., 16., 16.,\n",
       "       16., 16., 16., 16., 16., 16., 16., 16., 16., 16., 16., 16., 16.,\n",
       "       16., 16., 16., 16., 16., 16., 16., 16., 16., 16., 16., 16., 16.,\n",
       "       16., 16., 16., 16., 16., 16., 16., 16., 16., 16., 16., 16., 16.,\n",
       "       16., 16., 16., 16., 16., 16., 16., 16., 16., 16., 16., 16., 16.,\n",
       "       16., 16., 16., 16., 16., 16., 16., 16., 16., 16., 16., 16., 16.,\n",
       "       16., 16., 16., 16., 16., 16.,  0., 10., 10., 10., 10., 10., 10.,\n",
       "       10., 10., 10., 10., 10., 10., 10., 10., 10., 10., 10., 10., 10.,\n",
       "       10., 10., 10., 10., 10., 10., 10., 10., 10., 10., 10., 10., 10.,\n",
       "       10., 10., 10., 10., 10., 10., 10., 10., 10., 10., 10., 10., 10.,\n",
       "       10., 10., 10., 10., 10., 10., 10., 10., 10., 10., 10., 10., 10.,\n",
       "       10., 10., 10., 10., 10., 10., 10., 10., 10., 10., 10., 10., 10.,\n",
       "       10., 10., 10., 10., 10., 10.,  0., 10., 10., 10., 10., 10., 10.,\n",
       "       10., 10., 10., 10., 10., 10., 10., 10., 10., 10., 10., 10., 10.,\n",
       "       10., 10., 10., 10., 10., 10., 10., 10., 10., 10., 10., 10., 10.,\n",
       "       10., 10., 10., 10., 10., 10., 10., 10., 10., 10., 10., 10., 10.,\n",
       "       10., 10., 10., 10., 10., 10., 10., 10., 10., 10., 10., 10., 10.,\n",
       "       10., 10., 10., 10., 10., 10., 10., 10., 10., 10., 10., 10., 10.,\n",
       "       10., 10., 10., 10., 10., 10., 10., 10., 10., 10., 10., 10., 10.,\n",
       "       10., 10., 10., 10., 10., 10., 10., 10., 10., 10., 10., 10., 10.,\n",
       "        0., 10., 10., 10., 10., 10., 10., 10., 10., 10., 10., 10., 10.,\n",
       "       10., 10., 10., 10., 10., 10., 10., 10., 10., 10., 10., 10., 10.,\n",
       "       10., 10., 10., 10., 10., 10., 10., 10., 10., 10., 10., 10., 10.,\n",
       "       10., 10.,  9.,  9.,  9.,  9.,  9.,  9.,  9.,  9.,  9.,  9.,  9.,\n",
       "        9.,  9.,  9.,  9.,  9.,  9.,  9.,  9.,  9.,  9.,  9.,  9.,  9.,\n",
       "        9.,  9.,  9.,  9.,  9.,  9.,  9.,  9.,  9.,  9.,  9.,  9.,  9.,\n",
       "        9.,  9.,  9.,  9.,  9.,  9.,  9.,  9.,  9.,  9.,  9.,  9.,  9.,\n",
       "        9.,  9.,  9.,  9.,  9.,  9.,  9.,  9.,  9.,  9.,  9.,  9.,  9.,\n",
       "        9.,  9.,  9.,  9.,  9.,  9.,  9.,  9.,  9.,  9.,  9.,  9.,  9.,\n",
       "        9.,  9.,  9.,  9.,  9.,  9.,  9.,  9.,  9.,  9.,  9.,  0.])"
      ]
     },
     "execution_count": 10,
     "metadata": {},
     "output_type": "execute_result"
    }
   ],
   "source": [
    "import numpy as np\n",
    "np.array([a['characters']['size'] for a in x['pdfminer_detailed']][0][:1000])"
   ]
  },
  {
   "cell_type": "code",
   "execution_count": 12,
   "metadata": {
    "ExecuteTime": {
     "end_time": "2020-12-20T22:54:44.952211Z",
     "start_time": "2020-12-20T22:54:44.945279Z"
    }
   },
   "outputs": [
    {
     "data": {
      "text/plain": [
       "array([0, 0, 0, 0, 0, 0, 0, 0, 0, 0, 0, 0, 0, 0, 0, 0, 0, 0, 0, 0, 0, 0,\n",
       "       0, 0, 0, 0, 0, 0, 0, 0, 0, 0, 0, 0, 0, 0, 0, 0, 0, 0, 0, 0, 0, 0,\n",
       "       0, 0, 0, 0, 0, 0, 0, 0, 0, 0, 0, 0, 0, 0, 0, 0, 0, 0, 0, 0, 0, 0,\n",
       "       0, 0, 0, 0, 0, 0, 0, 0, 0, 0, 0, 0, 0, 0, 0, 0, 0, 0, 0, 0, 0, 0,\n",
       "       0, 0, 0, 0, 0, 0, 0, 0, 0, 0, 0, 0, 0, 0, 0, 0, 0, 0, 0, 0, 0, 0,\n",
       "       0, 0, 0, 0, 0, 0, 0, 0, 0, 0, 0, 0, 0, 0, 0, 0, 0, 0, 0, 0, 0, 0,\n",
       "       0, 0, 0, 0, 0, 0, 0, 0, 0, 0, 0, 0, 0, 0, 0, 0, 0, 0, 0, 0, 0, 0,\n",
       "       0, 0, 0, 0, 0, 0, 0, 0, 0, 0, 0, 0, 0, 0, 0, 0, 0, 0, 0, 0, 0, 0,\n",
       "       0, 0, 0, 0, 0, 0, 0, 0, 0, 0, 0, 0, 0, 0, 0, 0, 0, 0, 0, 0, 0, 0,\n",
       "       0, 0, 0, 0, 0, 0, 0, 0, 0, 0, 0, 0, 0, 0, 0, 0, 0, 0, 0, 0, 0, 0,\n",
       "       0, 0, 0, 0, 0, 0, 0, 0, 0, 0, 0, 0, 0, 0, 0, 0, 0, 0, 0, 0, 0, 0,\n",
       "       0, 0, 0, 0, 0, 0, 0, 0, 0, 0, 0, 0, 0, 0, 0, 0, 0, 0, 0, 0, 0, 0,\n",
       "       0, 0, 0, 0, 0, 0, 0, 0, 0, 0, 0, 0, 0, 0, 0, 0, 0, 0, 0, 0, 0, 0,\n",
       "       0, 0, 0, 0, 0, 0, 0, 0, 0, 0, 0, 0, 0, 0, 0, 0, 0, 0, 0, 0, 0, 0,\n",
       "       0, 0, 0, 0, 0, 0, 0, 0, 0, 0, 0, 0, 0, 0, 0, 0, 0, 0, 0, 0, 0, 0,\n",
       "       0, 0, 0, 0, 0, 0, 0, 0, 0, 0, 0, 0, 0, 0, 0, 0, 0, 0, 0, 0, 0, 0,\n",
       "       0, 0, 0, 0, 0, 0, 0, 0, 0, 0, 0, 0, 0, 0, 0, 0, 0, 0, 0, 0, 0, 0,\n",
       "       0, 0, 0, 0, 0, 0, 0, 0, 0, 0, 0, 0, 0, 0, 0, 0, 0, 0, 0, 0, 0, 0,\n",
       "       0, 0, 0, 0, 0, 0, 0, 0, 0, 0, 0, 0, 0, 0, 0, 0, 0, 0, 0, 0, 0, 0,\n",
       "       0, 0, 0, 0, 0, 0, 0, 0, 0, 0, 0, 0, 0, 0, 0, 0, 0, 0, 0, 0, 0, 0,\n",
       "       0, 0, 0, 0, 0, 0, 0, 0, 0, 0, 0, 0, 0, 0, 0, 0, 0, 0, 0, 0, 0, 0,\n",
       "       0, 0, 0, 0, 0, 0, 0, 0, 0, 0, 0, 0, 0, 0, 0, 0, 0, 0, 0, 0, 0, 0,\n",
       "       0])"
      ]
     },
     "execution_count": 12,
     "metadata": {},
     "output_type": "execute_result"
    }
   ],
   "source": [
    "np.array([a['characters']['fontfamily'] for a in x['pdfminer_detailed']][0][:1000])"
   ]
  },
  {
   "cell_type": "code",
   "execution_count": 13,
   "metadata": {
    "ExecuteTime": {
     "end_time": "2020-12-20T22:54:57.940345Z",
     "start_time": "2020-12-20T22:54:57.932523Z"
    }
   },
   "outputs": [
    {
     "data": {
      "text/plain": [
       "defaultdict(int,\n",
       "            {'Roboto-Regular': 0,\n",
       "             'MetaCondBold-Roman': 1,\n",
       "             'Futura-CondensedBold': 2,\n",
       "             'Futura-ExtraBold': 3,\n",
       "             'Weidemann-Book': 4,\n",
       "             'Futura-CondensedExtraBold': 5,\n",
       "             'Weidemann-Bold': 6,\n",
       "             'Universal-GreekwithMathPi': 7,\n",
       "             'Weidemann-BookItalic': 8,\n",
       "             'Futura-Heavy': 9,\n",
       "             'Futura-Book': 10,\n",
       "             'Symbol': 11,\n",
       "             'MetaPlusNormal-Roman': 12})"
      ]
     },
     "execution_count": 13,
     "metadata": {},
     "output_type": "execute_result"
    }
   ],
   "source": [
    "x['fonts']"
   ]
  },
  {
   "cell_type": "code",
   "execution_count": null,
   "metadata": {},
   "outputs": [],
   "source": []
  }
 ],
 "metadata": {
  "kernelspec": {
   "display_name": "Python 3",
   "language": "python",
   "name": "python3"
  },
  "language_info": {
   "codemirror_mode": {
    "name": "ipython",
    "version": 3
   },
   "file_extension": ".py",
   "mimetype": "text/x-python",
   "name": "python",
   "nbconvert_exporter": "python",
   "pygments_lexer": "ipython3",
   "version": "3.8.6"
  },
  "toc": {
   "base_numbering": 1,
   "nav_menu": {},
   "number_sections": true,
   "sideBar": true,
   "skip_h1_title": false,
   "title_cell": "Table of Contents",
   "title_sidebar": "Contents",
   "toc_cell": false,
   "toc_position": {},
   "toc_section_display": true,
   "toc_window_display": false
  }
 },
 "nbformat": 4,
 "nbformat_minor": 4
}
