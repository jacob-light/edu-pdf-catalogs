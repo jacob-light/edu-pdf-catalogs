{
 "cells": [
  {
   "cell_type": "code",
   "execution_count": 1,
   "metadata": {},
   "outputs": [],
   "source": [
    "# !pip install psycopg2\n",
    "import psycopg2\n",
    "from psycopg2.extensions import register_adapter\n",
    "from psycopg2.extras import Json\n",
    "\n",
    "register_adapter(dict, Json)\n",
    "\n",
    "conn = psycopg2.connect(\"dbname=collegepdf user=postgres\")\n",
    "\n",
    "cur = conn.cursor()\n",
    "\n",
    "sql_1 = \"DROP TABLE IF EXISTS textract;\"\n",
    "sql_2 = r\"\"\"\n",
    "CREATE TABLE textract (\n",
    "  id SERIAL PRIMARY KEY,\n",
    "  filepath VARCHAR(255) NOT NULL,\n",
    "  filename VARCHAR(255) NOT NULL,\n",
    "  college VARCHAR (255) NOT NULL,\n",
    "  pdfminer TEXT,\n",
    "  pdfminer_detailed JSON[],\n",
    "  pypdf2 TEXT\n",
    ");\n",
    "\"\"\".replace('\\n','')\n",
    "\n",
    "for sql in [sql_1,sql_2]:\n",
    "    cur.execute(sql)\n",
    "    \n",
    "sql_3 = \"\"\"\n",
    "INSERT INTO textract \n",
    "  (filepath, filename, college, pdfminer, pdfminer_detailed, pypdf2) \n",
    "  VALUES (%(filepath)s, %(filename)s, %(college)s, %(pdfminer)s, %(pdfminer_detailed)s::json[], %(pypdf2)s)\n",
    "\"\"\".replace('\\n','')"
   ]
  },
  {
   "cell_type": "code",
   "execution_count": null,
   "metadata": {
    "scrolled": true
   },
   "outputs": [
    {
     "data": {
      "application/vnd.jupyter.widget-view+json": {
       "model_id": "6d83a004c3344a3aa029229807b58cb7",
       "version_major": 2,
       "version_minor": 0
      },
      "text/plain": [
       "HBox(children=(HTML(value=''), FloatProgress(value=0.0, max=326.0), HTML(value='')))"
      ]
     },
     "metadata": {},
     "output_type": "display_data"
    },
    {
     "name": "stderr",
     "output_type": "stream",
     "text": [
      "PdfReadWarning: Xref table not zero-indexed. ID numbers for objects will be corrected. [pdf.py:1736]\n"
     ]
    }
   ],
   "source": [
    "import os\n",
    "\n",
    "from tqdm.notebook import trange, tqdm\n",
    "\n",
    "from utils.pdf_processing import get_all_data\n",
    "\n",
    "files = [directory + '/' + file \n",
    "         for directory,_,files in list(os.walk('data')) \n",
    "         for file in files \n",
    "         if '.pdf' in file]\n",
    "\n",
    "for f in tqdm(files):\n",
    "    try:\n",
    "        cur.execute(sql_3, get_all_data(f, 10))\n",
    "    except Exception as e:\n",
    "        print(f, e)"
   ]
  },
  {
   "cell_type": "code",
   "execution_count": null,
   "metadata": {},
   "outputs": [],
   "source": [
    "cur.execute('select * from textract')\n",
    "cur.fetchall()"
   ]
  }
 ],
 "metadata": {
  "kernelspec": {
   "display_name": "Python 3",
   "language": "python",
   "name": "python3"
  },
  "language_info": {
   "codemirror_mode": {
    "name": "ipython",
    "version": 3
   },
   "file_extension": ".py",
   "mimetype": "text/x-python",
   "name": "python",
   "nbconvert_exporter": "python",
   "pygments_lexer": "ipython3",
   "version": "3.8.6"
  }
 },
 "nbformat": 4,
 "nbformat_minor": 4
}
