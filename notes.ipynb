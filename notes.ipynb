{
 "cells": [
  {
   "cell_type": "markdown",
   "metadata": {},
   "source": [
    "# Planning\n",
    "1. Use a known (first appearing) department name combined with it's - also known - page number to extract font metadata `FM` for department headings in the file\n",
    "2. Use `FM` to find the rest of instances of a department name and use them to divide sections of the catalog. \n",
    "3. Withing each section, to find every course belonging to that section, run regex using only one variable `course ID` and using following strategy: \n",
    "```\n",
    "find course ID, match everything (non greedy) until next course ID\n",
    "```\n",
    "\n",
    "## Assumptions\n",
    "- \n",
    "-\n",
    "-\n",
    "\n",
    "## Comments\n",
    "- going from page to page work perfectly... but only for catalogs that page-break at the last department's course\n",
    "- Ideally, I'd slice not pages but whole catalog's string (str index from department to department). That solution would be perfect, but, it requires very good planing, so here it goes:\n",
    "  - the hardest things to deal with are white spaces, because:\n",
    "    - in some cases, department name can have newline char in it, e.g.\n",
    "    ```\n",
    "    AEROSPACE STUDIES –  AIR \n",
    "    FORCE ROTC\n",
    "    ```\n",
    "      that issue (what issue) can be solved by more precise mapping, e.g. `AEROSPACE STUDIES –  AIR \\nFORCE ROTC`. Then I'm always able to successfully find first department, along with correct index in string. This gives correct slice of first department, and correct font size. It also doesn't modify string indexes as `text.replace('\\n','').replace(' ','')` does. \n",
    "    - `text.replace('\\n','').replace(' ','')` is much easier to work with, because list of char sizes and list of chars per page are same size - they do not take into consideration `\\n` characters anyway. Thanks to this I can do `''.join(list_of_chars)` to get text - it lack all `\\n` which is great for searching for name of the first department, but sucks for splitting paragraphs (e.g. courses, or more importatnly, finding breakpoint for last course) \n",
    "  - ideally (and sadly - that's time consuming), mapping would also include information about: \n",
    "    - which library is best for particular pdf    \n",
    "    - what strategy should be used to find department\n",
    "      - font size, or\n",
    "      - regex (and if regex, also include regex for finding the department)\n",
    "        - having regex might not be enough, I'd also need to bring a lib for string comparison with similarity score, e.g. `AEROSPACE STUDIES –  AIR \\nFORCE ROTC` vs. `AEROSPACE STUDIES – AIR FORCE ROTC` (from mapping) = `0.99 similar`\n",
    "  - seems like the most effective strategy would be to build a hybrid approach (again, very time consuming, as I'd need to consider all posibilities, have rich mapping, implement all functionalities, and also have the combined togather into one behemoth)\n",
    "  - maybe the most effective solution is to define some framework...\n",
    "    - scrape all data\n",
    "      - `[x] scrape whole text with 2 different libs, but also page by page togather with font size and family information`\n",
    "      - `[ ] have len(list(font['size'])) == len(pdf_text) equal to True` \n",
    "    - collect mapping\n",
    "      - `[ ] `\n",
    "      - regex id?\n",
    "      - department regex?\n",
    "    - text processing\n",
    "    - bug detection"
   ]
  },
  {
   "cell_type": "markdown",
   "metadata": {},
   "source": [
    "# Sandbox"
   ]
  },
  {
   "cell_type": "code",
   "execution_count": 128,
   "metadata": {
    "ExecuteTime": {
     "end_time": "2020-12-21T05:50:03.896611Z",
     "start_time": "2020-12-21T05:50:03.885888Z"
    }
   },
   "outputs": [
    {
     "data": {
      "text/plain": [
       "<re.Match object; span=(6, 52), match='Accounting and Management\\n Information Systems'>"
      ]
     },
     "execution_count": 128,
     "metadata": {},
     "output_type": "execute_result"
    }
   ],
   "source": [
    "import re\n",
    "\n",
    "t = 'Accounting and Management Information Systems'\n",
    "def convert_to_pattern(s):\n",
    "    return r'\\s*'.join(s.split())\n",
    "re.search(\n",
    "    pattern=convert_to_pattern(t),\n",
    "    string='arst\\n Accounting and Management\\n Information Systems', \n",
    ")"
   ]
  },
  {
   "cell_type": "code",
   "execution_count": 1,
   "metadata": {
    "ExecuteTime": {
     "end_time": "2020-12-22T13:52:01.582761Z",
     "start_time": "2020-12-22T13:52:01.573295Z"
    }
   },
   "outputs": [
    {
     "data": {
      "text/plain": [
       "234"
      ]
     },
     "execution_count": 1,
     "metadata": {},
     "output_type": "execute_result"
    }
   ],
   "source": [
    "round(234.434)"
   ]
  },
  {
   "cell_type": "code",
   "execution_count": 7,
   "metadata": {
    "ExecuteTime": {
     "end_time": "2020-12-22T14:27:03.820724Z",
     "start_time": "2020-12-22T14:27:03.808072Z"
    }
   },
   "outputs": [
    {
     "ename": "TypeError",
     "evalue": "'list' object is not an iterator",
     "output_type": "error",
     "traceback": [
      "\u001b[0;31m---------------------------------------------------------------------------\u001b[0m",
      "\u001b[0;31mTypeError\u001b[0m                                 Traceback (most recent call last)",
      "\u001b[0;32m<ipython-input-7-88bb914f0a1a>\u001b[0m in \u001b[0;36m<module>\u001b[0;34m\u001b[0m\n\u001b[1;32m      1\u001b[0m \u001b[0ma\u001b[0m \u001b[0;34m=\u001b[0m \u001b[0;34m[\u001b[0m\u001b[0;36m12\u001b[0m\u001b[0;34m,\u001b[0m\u001b[0;36m3\u001b[0m\u001b[0;34m,\u001b[0m\u001b[0;36m3\u001b[0m\u001b[0;34m]\u001b[0m\u001b[0;34m\u001b[0m\u001b[0;34m\u001b[0m\u001b[0m\n\u001b[1;32m      2\u001b[0m \u001b[0;32mfor\u001b[0m \u001b[0mi\u001b[0m \u001b[0;32min\u001b[0m \u001b[0ma\u001b[0m\u001b[0;34m:\u001b[0m\u001b[0;34m\u001b[0m\u001b[0;34m\u001b[0m\u001b[0m\n\u001b[0;32m----> 3\u001b[0;31m     \u001b[0mnext\u001b[0m\u001b[0;34m(\u001b[0m\u001b[0ma\u001b[0m\u001b[0;34m)\u001b[0m\u001b[0;34m\u001b[0m\u001b[0;34m\u001b[0m\u001b[0m\n\u001b[0m",
      "\u001b[0;31mTypeError\u001b[0m: 'list' object is not an iterator"
     ]
    }
   ],
   "source": [
    "a = [12,3,3]\n",
    "for i in a:\n",
    "    next(a)"
   ]
  },
  {
   "cell_type": "code",
   "execution_count": 20,
   "metadata": {
    "ExecuteTime": {
     "end_time": "2020-12-22T16:59:14.855482Z",
     "start_time": "2020-12-22T16:59:14.845675Z"
    }
   },
   "outputs": [
    {
     "data": {
      "text/plain": [
       "False"
      ]
     },
     "execution_count": 20,
     "metadata": {},
     "output_type": "execute_result"
    }
   ],
   "source": [
    "import math\n",
    "math.isclose(0.9,0.79,abs_tol=0.1)"
   ]
  },
  {
   "cell_type": "code",
   "execution_count": 3,
   "metadata": {
    "ExecuteTime": {
     "end_time": "2020-12-24T00:44:29.088803Z",
     "start_time": "2020-12-24T00:44:29.082146Z"
    }
   },
   "outputs": [
    {
     "data": {
      "text/plain": [
       "False"
      ]
     },
     "execution_count": 3,
     "metadata": {},
     "output_type": "execute_result"
    }
   ],
   "source": [
    "type(BaseException) is Exception"
   ]
  },
  {
   "cell_type": "code",
   "execution_count": 8,
   "metadata": {
    "ExecuteTime": {
     "end_time": "2020-12-24T00:47:11.864527Z",
     "start_time": "2020-12-24T00:47:11.857320Z"
    }
   },
   "outputs": [
    {
     "data": {
      "text/plain": [
       "True"
      ]
     },
     "execution_count": 8,
     "metadata": {},
     "output_type": "execute_result"
    }
   ],
   "source": [
    "isinstance(ValueError('ars'),Exception)"
   ]
  },
  {
   "cell_type": "code",
   "execution_count": 9,
   "metadata": {
    "ExecuteTime": {
     "end_time": "2020-12-24T01:15:44.890256Z",
     "start_time": "2020-12-24T01:15:44.613551Z"
    }
   },
   "outputs": [],
   "source": [
    "import pandas as pd"
   ]
  },
  {
   "cell_type": "code",
   "execution_count": 18,
   "metadata": {
    "ExecuteTime": {
     "end_time": "2020-12-24T01:20:47.909100Z",
     "start_time": "2020-12-24T01:20:47.906096Z"
    }
   },
   "outputs": [],
   "source": [
    "df = pd.DataFrame([['rast','rast','rast'], [1,2,3]])\n",
    "# df[df[0].str.len() > 3][0].str[:3]"
   ]
  },
  {
   "cell_type": "code",
   "execution_count": 19,
   "metadata": {
    "ExecuteTime": {
     "end_time": "2020-12-24T01:20:53.002639Z",
     "start_time": "2020-12-24T01:20:52.999258Z"
    }
   },
   "outputs": [
    {
     "data": {
      "text/plain": [
       "(2, 3)"
      ]
     },
     "execution_count": 19,
     "metadata": {},
     "output_type": "execute_result"
    }
   ],
   "source": [
    "df.shape"
   ]
  },
  {
   "cell_type": "code",
   "execution_count": 21,
   "metadata": {
    "ExecuteTime": {
     "end_time": "2020-12-24T01:21:38.765894Z",
     "start_time": "2020-12-24T01:21:38.762949Z"
    }
   },
   "outputs": [
    {
     "data": {
      "text/plain": [
       "2"
      ]
     },
     "execution_count": 21,
     "metadata": {},
     "output_type": "execute_result"
    }
   ],
   "source": [
    "df.shape[0]"
   ]
  },
  {
   "cell_type": "code",
   "execution_count": 25,
   "metadata": {
    "ExecuteTime": {
     "end_time": "2020-12-24T01:30:32.385602Z",
     "start_time": "2020-12-24T01:30:32.379662Z"
    }
   },
   "outputs": [
    {
     "ename": "SyntaxError",
     "evalue": "invalid syntax (<ipython-input-25-e04cc4662096>, line 1)",
     "output_type": "error",
     "traceback": [
      "\u001b[0;36m  File \u001b[0;32m\"<ipython-input-25-e04cc4662096>\"\u001b[0;36m, line \u001b[0;32m1\u001b[0m\n\u001b[0;31m    if !True:\u001b[0m\n\u001b[0m       ^\u001b[0m\n\u001b[0;31mSyntaxError\u001b[0m\u001b[0;31m:\u001b[0m invalid syntax\n"
     ]
    }
   ],
   "source": [
    "if !True:\n",
    "    print(\"arst\")"
   ]
  },
  {
   "cell_type": "code",
   "execution_count": 1,
   "metadata": {
    "ExecuteTime": {
     "end_time": "2020-12-24T09:08:42.807983Z",
     "start_time": "2020-12-24T09:08:41.908357Z"
    }
   },
   "outputs": [
    {
     "ename": "SpreadsheetNotFound",
     "evalue": "",
     "output_type": "error",
     "traceback": [
      "\u001b[0;31m----------\u001b[0m",
      "\u001b[0;31mStopIteration\u001b[0mTraceback (most recent call last)",
      "\u001b[0;32m~/.local/lib/python3.8/site-packages/gspread/client.py\u001b[0m in \u001b[0;36mopen\u001b[0;34m(self, title)\u001b[0m\n\u001b[1;32m    116\u001b[0m         \u001b[0;32mtry\u001b[0m\u001b[0;34m:\u001b[0m\u001b[0;34m\u001b[0m\u001b[0;34m\u001b[0m\u001b[0m\n\u001b[0;32m--> 117\u001b[0;31m             properties = finditem(\n\u001b[0m\u001b[1;32m    118\u001b[0m                 \u001b[0;32mlambda\u001b[0m \u001b[0mx\u001b[0m\u001b[0;34m:\u001b[0m \u001b[0mx\u001b[0m\u001b[0;34m[\u001b[0m\u001b[0;34m'name'\u001b[0m\u001b[0;34m]\u001b[0m \u001b[0;34m==\u001b[0m \u001b[0mtitle\u001b[0m\u001b[0;34m,\u001b[0m\u001b[0;34m\u001b[0m\u001b[0;34m\u001b[0m\u001b[0m\n",
      "\u001b[0;32m~/.local/lib/python3.8/site-packages/gspread/utils.py\u001b[0m in \u001b[0;36mfinditem\u001b[0;34m(func, seq)\u001b[0m\n\u001b[1;32m     96\u001b[0m     \"\"\"\n\u001b[0;32m---> 97\u001b[0;31m     \u001b[0;32mreturn\u001b[0m \u001b[0mnext\u001b[0m\u001b[0;34m(\u001b[0m\u001b[0;34m(\u001b[0m\u001b[0mitem\u001b[0m \u001b[0;32mfor\u001b[0m \u001b[0mitem\u001b[0m \u001b[0;32min\u001b[0m \u001b[0mseq\u001b[0m \u001b[0;32mif\u001b[0m \u001b[0mfunc\u001b[0m\u001b[0;34m(\u001b[0m\u001b[0mitem\u001b[0m\u001b[0;34m)\u001b[0m\u001b[0;34m)\u001b[0m\u001b[0;34m)\u001b[0m\u001b[0;34m\u001b[0m\u001b[0;34m\u001b[0m\u001b[0m\n\u001b[0m\u001b[1;32m     98\u001b[0m \u001b[0;34m\u001b[0m\u001b[0m\n",
      "\u001b[0;31mStopIteration\u001b[0m: ",
      "\nDuring handling of the above exception, another exception occurred:\n",
      "\u001b[0;31mSpreadsheetNotFound\u001b[0mTraceback (most recent call last)",
      "\u001b[0;32m<ipython-input-1-f523a58aed25>\u001b[0m in \u001b[0;36m<module>\u001b[0;34m\u001b[0m\n\u001b[1;32m      2\u001b[0m \u001b[0;34m\u001b[0m\u001b[0m\n\u001b[1;32m      3\u001b[0m \u001b[0mgdrive_sheets\u001b[0m \u001b[0;34m=\u001b[0m \u001b[0mgspread\u001b[0m\u001b[0;34m.\u001b[0m\u001b[0moauth\u001b[0m\u001b[0;34m(\u001b[0m\u001b[0;34m)\u001b[0m\u001b[0;34m\u001b[0m\u001b[0;34m\u001b[0m\u001b[0m\n\u001b[0;32m----> 4\u001b[0;31m \u001b[0mgsheet\u001b[0m \u001b[0;34m=\u001b[0m \u001b[0mgdrive_sheets\u001b[0m\u001b[0;34m.\u001b[0m\u001b[0mopen\u001b[0m\u001b[0;34m(\u001b[0m\u001b[0;34m\"testttcollege_catalogs_data\"\u001b[0m\u001b[0;34m)\u001b[0m\u001b[0;34m\u001b[0m\u001b[0;34m\u001b[0m\u001b[0m\n\u001b[0m",
      "\u001b[0;32m~/.local/lib/python3.8/site-packages/gspread/client.py\u001b[0m in \u001b[0;36mopen\u001b[0;34m(self, title)\u001b[0m\n\u001b[1;32m    125\u001b[0m             \u001b[0;32mreturn\u001b[0m \u001b[0mSpreadsheet\u001b[0m\u001b[0;34m(\u001b[0m\u001b[0mself\u001b[0m\u001b[0;34m,\u001b[0m \u001b[0mproperties\u001b[0m\u001b[0;34m)\u001b[0m\u001b[0;34m\u001b[0m\u001b[0;34m\u001b[0m\u001b[0m\n\u001b[1;32m    126\u001b[0m         \u001b[0;32mexcept\u001b[0m \u001b[0mStopIteration\u001b[0m\u001b[0;34m:\u001b[0m\u001b[0;34m\u001b[0m\u001b[0;34m\u001b[0m\u001b[0m\n\u001b[0;32m--> 127\u001b[0;31m             \u001b[0;32mraise\u001b[0m \u001b[0mSpreadsheetNotFound\u001b[0m\u001b[0;34m\u001b[0m\u001b[0;34m\u001b[0m\u001b[0m\n\u001b[0m\u001b[1;32m    128\u001b[0m \u001b[0;34m\u001b[0m\u001b[0m\n\u001b[1;32m    129\u001b[0m     \u001b[0;32mdef\u001b[0m \u001b[0mopen_by_key\u001b[0m\u001b[0;34m(\u001b[0m\u001b[0mself\u001b[0m\u001b[0;34m,\u001b[0m \u001b[0mkey\u001b[0m\u001b[0;34m)\u001b[0m\u001b[0;34m:\u001b[0m\u001b[0;34m\u001b[0m\u001b[0;34m\u001b[0m\u001b[0m\n",
      "\u001b[0;31mSpreadsheetNotFound\u001b[0m: "
     ]
    }
   ],
   "source": [
    "import gspread\n",
    "\n",
    "gdrive_sheets = gspread.oauth()\n",
    "gsheet = gdrive_sheets.open(\"testttcollege_catalogs_data\")\n"
   ]
  },
  {
   "cell_type": "code",
   "execution_count": 2,
   "metadata": {
    "ExecuteTime": {
     "end_time": "2020-12-24T09:09:35.072853Z",
     "start_time": "2020-12-24T09:09:32.883105Z"
    }
   },
   "outputs": [
    {
     "data": {
      "text/plain": [
       "<Spreadsheet 'test' id:1-jM0fd7TyYmO-W6QM_w1DFoEtZqJNV9XSBZv-MgBBEA>"
      ]
     },
     "execution_count": 2,
     "metadata": {},
     "output_type": "execute_result"
    }
   ],
   "source": [
    "gdrive_sheets.create('test','1oVHKuacpKBiZriK3BbBB_AOoFIUi02va')"
   ]
  },
  {
   "cell_type": "code",
   "execution_count": 84,
   "metadata": {
    "ExecuteTime": {
     "end_time": "2020-12-24T03:19:42.093437Z",
     "start_time": "2020-12-24T03:19:40.080143Z"
    }
   },
   "outputs": [
    {
     "data": {
      "text/plain": [
       "{'spreadsheetId': '12pYVv4uYV5HGrNH4_tkFSZqugJxO4kOzLFLsXwhamNI',\n",
       " 'updatedRange': 'Mapping!P642',\n",
       " 'updatedRows': 1,\n",
       " 'updatedColumns': 1,\n",
       " 'updatedCells': 1}"
      ]
     },
     "execution_count": 84,
     "metadata": {},
     "output_type": "execute_result"
    }
   ],
   "source": [
    "from string import ascii_uppercase\n",
    "\n",
    "\n",
    "college = 'UCLA'\n",
    "filename = 'UCLA_1991–92.pdf'\n",
    "status = 'arst'\n",
    "\n",
    "sheet = gsheet.worksheet('Mapping')\n",
    "college_records = sheet.findall(college)\n",
    "college_rows = [cr.row for cr in college_records]\n",
    "college_files = sheet.range(f\"E{min(rows)}:E{max(rows)}\")\n",
    "file_row = [cell for cell in college_files \n",
    "            if cell.value == filename][0].row\n",
    "status_col = ascii_uppercase[sheet.find('status').col-1]\n",
    "sheet.update(f'{status_col}{file_row}', status)\n"
   ]
  },
  {
   "cell_type": "code",
   "execution_count": 3,
   "metadata": {
    "ExecuteTime": {
     "end_time": "2020-12-24T09:10:14.725609Z",
     "start_time": "2020-12-24T09:10:14.354494Z"
    }
   },
   "outputs": [],
   "source": [
    "gsheet = gdrive_sheets.open(\"college_catalogs_data\")\n"
   ]
  },
  {
   "cell_type": "code",
   "execution_count": 6,
   "metadata": {
    "ExecuteTime": {
     "end_time": "2020-12-24T09:11:56.896852Z",
     "start_time": "2020-12-24T09:11:56.336333Z"
    }
   },
   "outputs": [
    {
     "data": {
      "text/plain": [
       "577822"
      ]
     },
     "execution_count": 6,
     "metadata": {},
     "output_type": "execute_result"
    }
   ],
   "source": [
    "sum([a.row_count * a.col_count for a in gsheet.worksheets()])\n"
   ]
  },
  {
   "cell_type": "code",
   "execution_count": 5,
   "metadata": {
    "ExecuteTime": {
     "end_time": "2020-12-24T09:11:36.181058Z",
     "start_time": "2020-12-24T09:11:36.173923Z"
    }
   },
   "outputs": [
    {
     "data": {
      "text/plain": [
       "14660"
      ]
     },
     "execution_count": 5,
     "metadata": {},
     "output_type": "execute_result"
    }
   ],
   "source": []
  },
  {
   "cell_type": "code",
   "execution_count": 29,
   "metadata": {
    "ExecuteTime": {
     "end_time": "2020-12-24T02:24:18.668964Z",
     "start_time": "2020-12-24T02:24:18.420190Z"
    }
   },
   "outputs": [],
   "source": [
    "gsheet = gdrive_sheets.open(\"college_catalogs_data\")\n",
    "[gsheet.del_worksheet(ws) for ws in gsheet.worksheets() if ws.title != 'Mapping']"
   ]
  }
 ],
 "metadata": {
  "kernelspec": {
   "display_name": "Python 3",
   "language": "python",
   "name": "python3"
  },
  "language_info": {
   "codemirror_mode": {
    "name": "ipython",
    "version": 3
   },
   "file_extension": ".py",
   "mimetype": "text/x-python",
   "name": "python",
   "nbconvert_exporter": "python",
   "pygments_lexer": "ipython3",
   "version": "3.8.6"
  },
  "toc": {
   "base_numbering": 1,
   "nav_menu": {},
   "number_sections": true,
   "sideBar": true,
   "skip_h1_title": false,
   "title_cell": "Table of Contents",
   "title_sidebar": "Contents",
   "toc_cell": false,
   "toc_position": {},
   "toc_section_display": true,
   "toc_window_display": false
  }
 },
 "nbformat": 4,
 "nbformat_minor": 4
}
